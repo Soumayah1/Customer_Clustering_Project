{
 "cells": [
  {
   "cell_type": "markdown",
   "metadata": {},
   "source": [
    "# Project: Identify Customer Segments\n",
    "\n",
    "In this project, you will apply unsupervised learning techniques to identify segments of the population that form the core customer base for a mail-order sales company in Germany. These segments can then be used to direct marketing campaigns towards audiences that will have the highest expected rate of returns. The data that you will use has been provided by our partners at Bertelsmann Arvato Analytics, and represents a real-life data science task.\n",
    "\n",
    "This notebook will help you complete this task by providing a framework within which you will perform your analysis steps. In each step of the project, you will see some text describing the subtask that you will perform, followed by one or more code cells for you to complete your work. **Feel free to add additional code and markdown cells as you go along so that you can explore everything in precise chunks.** The code cells provided in the base template will outline only the major tasks, and will usually not be enough to cover all of the minor tasks that comprise it.\n",
    "\n",
    "It should be noted that while there will be precise guidelines on how you should handle certain tasks in the project, there will also be places where an exact specification is not provided. **There will be times in the project where you will need to make and justify your own decisions on how to treat the data.** These are places where there may not be only one way to handle the data. In real-life tasks, there may be many valid ways to approach an analysis task. One of the most important things you can do is clearly document your approach so that other scientists can understand the decisions you've made.\n",
    "\n",
    "At the end of most sections, there will be a Markdown cell labeled **Discussion**. In these cells, you will report your findings for the completed section, as well as document the decisions that you made in your approach to each subtask. **Your project will be evaluated not just on the code used to complete the tasks outlined, but also your communication about your observations and conclusions at each stage.**"
   ]
  },
  {
   "cell_type": "code",
   "execution_count": 1,
   "metadata": {},
   "outputs": [
    {
     "data": {
      "text/plain": [
       "'\\nImport note: The classroom currently uses sklearn version 0.19.\\nIf you need to use an imputer, it is available in sklearn.preprocessing.Imputer,\\ninstead of sklearn.impute as in newer versions of sklearn.\\n'"
      ]
     },
     "execution_count": 1,
     "metadata": {},
     "output_type": "execute_result"
    }
   ],
   "source": [
    "# import libraries here; add more as necessary\n",
    "import numpy as np\n",
    "import pandas as pd\n",
    "import matplotlib.pyplot as plt\n",
    "import seaborn as sns\n",
    "from sklearn.preprocessing import StandardScaler\n",
    "from sklearn.decomposition import PCA\n",
    "from sklearn.cluster import KMeans\n",
    "# magic word for producing visualizations in notebook\n",
    "%matplotlib inline\n",
    "\n",
    "'''\n",
    "Import note: The classroom currently uses sklearn version 0.19.\n",
    "If you need to use an imputer, it is available in sklearn.preprocessing.Imputer,\n",
    "instead of sklearn.impute as in newer versions of sklearn.\n",
    "'''"
   ]
  },
  {
   "cell_type": "markdown",
   "metadata": {},
   "source": [
    "### Step 0: Load the Data\n",
    "\n",
    "There are four files associated with this project (not including this one):\n",
    "\n",
    "- `Udacity_AZDIAS_Subset.csv`: Demographics data for the general population of Germany; 891211 persons (rows) x 85 features (columns).\n",
    "- `Udacity_CUSTOMERS_Subset.csv`: Demographics data for customers of a mail-order company; 191652 persons (rows) x 85 features (columns).\n",
    "- `Data_Dictionary.md`: Detailed information file about the features in the provided datasets.\n",
    "- `AZDIAS_Feature_Summary.csv`: Summary of feature attributes for demographics data; 85 features (rows) x 4 columns\n",
    "\n",
    "Each row of the demographics files represents a single person, but also includes information outside of individuals, including information about their household, building, and neighborhood. You will use this information to cluster the general population into groups with similar demographic properties. Then, you will see how the people in the customers dataset fit into those created clusters. The hope here is that certain clusters are over-represented in the customers data, as compared to the general population; those over-represented clusters will be assumed to be part of the core userbase. This information can then be used for further applications, such as targeting for a marketing campaign.\n",
    "\n",
    "To start off with, load in the demographics data for the general population into a pandas DataFrame, and do the same for the feature attributes summary. Note for all of the `.csv` data files in this project: they're semicolon (`;`) delimited, so you'll need an additional argument in your [`read_csv()`](https://pandas.pydata.org/pandas-docs/stable/generated/pandas.read_csv.html) call to read in the data properly. Also, considering the size of the main dataset, it may take some time for it to load completely.\n",
    "\n",
    "Once the dataset is loaded, it's recommended that you take a little bit of time just browsing the general structure of the dataset and feature summary file. You'll be getting deep into the innards of the cleaning in the first major step of the project, so gaining some general familiarity can help you get your bearings."
   ]
  },
  {
   "cell_type": "code",
   "execution_count": 2,
   "metadata": {},
   "outputs": [],
   "source": [
    "# Load in the general demographics data.\n",
    "azdias = azdias = pd.read_csv(\"Udacity_AZDIAS_Subset.csv\",sep=';')\n",
    "\n",
    "# Load in the feature summary file.\n",
    "feat_info = pd.read_csv(\"AZDIAS_Feature_Summary.csv\",sep=';') "
   ]
  },
  {
   "cell_type": "code",
   "execution_count": 3,
   "metadata": {},
   "outputs": [
    {
     "name": "stdout",
     "output_type": "stream",
     "text": [
      "The number of rows in AZDIAS dataset :891221\n",
      "The number of columns in AZDIAS dataset :85\n",
      "The number of rows in the Feature Summary :85\n",
      "The number of columns in the Feature Summary :4\n"
     ]
    }
   ],
   "source": [
    "# Check the structure of the data after it's loaded (e.g. print the number of\n",
    "# rows and columns\n",
    "\n",
    "azdias_rows,azdias_col = azdias.shape\n",
    "feat_info_rows, feat_info_col = feat_info.shape\n",
    "print(\"The number of rows in AZDIAS dataset :{}\".format(azdias_rows))\n",
    "print(\"The number of columns in AZDIAS dataset :{}\".format(azdias_col))\n",
    "print(\"The number of rows in the Feature Summary :{}\".format(feat_info_rows))\n",
    "print(\"The number of columns in the Feature Summary :{}\".format(feat_info_col))\n",
    "      "
   ]
  },
  {
   "cell_type": "code",
   "execution_count": 4,
   "metadata": {},
   "outputs": [
    {
     "data": {
      "text/html": [
       "<div>\n",
       "<style scoped>\n",
       "    .dataframe tbody tr th:only-of-type {\n",
       "        vertical-align: middle;\n",
       "    }\n",
       "\n",
       "    .dataframe tbody tr th {\n",
       "        vertical-align: top;\n",
       "    }\n",
       "\n",
       "    .dataframe thead th {\n",
       "        text-align: right;\n",
       "    }\n",
       "</style>\n",
       "<table border=\"1\" class=\"dataframe\">\n",
       "  <thead>\n",
       "    <tr style=\"text-align: right;\">\n",
       "      <th></th>\n",
       "      <th>AGER_TYP</th>\n",
       "      <th>ALTERSKATEGORIE_GROB</th>\n",
       "      <th>ANREDE_KZ</th>\n",
       "      <th>CJT_GESAMTTYP</th>\n",
       "      <th>FINANZ_MINIMALIST</th>\n",
       "      <th>FINANZ_SPARER</th>\n",
       "      <th>FINANZ_VORSORGER</th>\n",
       "      <th>FINANZ_ANLEGER</th>\n",
       "      <th>FINANZ_UNAUFFAELLIGER</th>\n",
       "      <th>FINANZ_HAUSBAUER</th>\n",
       "      <th>...</th>\n",
       "      <th>PLZ8_ANTG1</th>\n",
       "      <th>PLZ8_ANTG2</th>\n",
       "      <th>PLZ8_ANTG3</th>\n",
       "      <th>PLZ8_ANTG4</th>\n",
       "      <th>PLZ8_BAUMAX</th>\n",
       "      <th>PLZ8_HHZ</th>\n",
       "      <th>PLZ8_GBZ</th>\n",
       "      <th>ARBEIT</th>\n",
       "      <th>ORTSGR_KLS9</th>\n",
       "      <th>RELAT_AB</th>\n",
       "    </tr>\n",
       "  </thead>\n",
       "  <tbody>\n",
       "    <tr>\n",
       "      <th>0</th>\n",
       "      <td>-1</td>\n",
       "      <td>2</td>\n",
       "      <td>1</td>\n",
       "      <td>2.0</td>\n",
       "      <td>3</td>\n",
       "      <td>4</td>\n",
       "      <td>3</td>\n",
       "      <td>5</td>\n",
       "      <td>5</td>\n",
       "      <td>3</td>\n",
       "      <td>...</td>\n",
       "      <td>NaN</td>\n",
       "      <td>NaN</td>\n",
       "      <td>NaN</td>\n",
       "      <td>NaN</td>\n",
       "      <td>NaN</td>\n",
       "      <td>NaN</td>\n",
       "      <td>NaN</td>\n",
       "      <td>NaN</td>\n",
       "      <td>NaN</td>\n",
       "      <td>NaN</td>\n",
       "    </tr>\n",
       "    <tr>\n",
       "      <th>1</th>\n",
       "      <td>-1</td>\n",
       "      <td>1</td>\n",
       "      <td>2</td>\n",
       "      <td>5.0</td>\n",
       "      <td>1</td>\n",
       "      <td>5</td>\n",
       "      <td>2</td>\n",
       "      <td>5</td>\n",
       "      <td>4</td>\n",
       "      <td>5</td>\n",
       "      <td>...</td>\n",
       "      <td>2.0</td>\n",
       "      <td>3.0</td>\n",
       "      <td>2.0</td>\n",
       "      <td>1.0</td>\n",
       "      <td>1.0</td>\n",
       "      <td>5.0</td>\n",
       "      <td>4.0</td>\n",
       "      <td>3.0</td>\n",
       "      <td>5.0</td>\n",
       "      <td>4.0</td>\n",
       "    </tr>\n",
       "    <tr>\n",
       "      <th>2</th>\n",
       "      <td>-1</td>\n",
       "      <td>3</td>\n",
       "      <td>2</td>\n",
       "      <td>3.0</td>\n",
       "      <td>1</td>\n",
       "      <td>4</td>\n",
       "      <td>1</td>\n",
       "      <td>2</td>\n",
       "      <td>3</td>\n",
       "      <td>5</td>\n",
       "      <td>...</td>\n",
       "      <td>3.0</td>\n",
       "      <td>3.0</td>\n",
       "      <td>1.0</td>\n",
       "      <td>0.0</td>\n",
       "      <td>1.0</td>\n",
       "      <td>4.0</td>\n",
       "      <td>4.0</td>\n",
       "      <td>3.0</td>\n",
       "      <td>5.0</td>\n",
       "      <td>2.0</td>\n",
       "    </tr>\n",
       "    <tr>\n",
       "      <th>3</th>\n",
       "      <td>2</td>\n",
       "      <td>4</td>\n",
       "      <td>2</td>\n",
       "      <td>2.0</td>\n",
       "      <td>4</td>\n",
       "      <td>2</td>\n",
       "      <td>5</td>\n",
       "      <td>2</td>\n",
       "      <td>1</td>\n",
       "      <td>2</td>\n",
       "      <td>...</td>\n",
       "      <td>2.0</td>\n",
       "      <td>2.0</td>\n",
       "      <td>2.0</td>\n",
       "      <td>0.0</td>\n",
       "      <td>1.0</td>\n",
       "      <td>3.0</td>\n",
       "      <td>4.0</td>\n",
       "      <td>2.0</td>\n",
       "      <td>3.0</td>\n",
       "      <td>3.0</td>\n",
       "    </tr>\n",
       "    <tr>\n",
       "      <th>4</th>\n",
       "      <td>-1</td>\n",
       "      <td>3</td>\n",
       "      <td>1</td>\n",
       "      <td>5.0</td>\n",
       "      <td>4</td>\n",
       "      <td>3</td>\n",
       "      <td>4</td>\n",
       "      <td>1</td>\n",
       "      <td>3</td>\n",
       "      <td>2</td>\n",
       "      <td>...</td>\n",
       "      <td>2.0</td>\n",
       "      <td>4.0</td>\n",
       "      <td>2.0</td>\n",
       "      <td>1.0</td>\n",
       "      <td>2.0</td>\n",
       "      <td>3.0</td>\n",
       "      <td>3.0</td>\n",
       "      <td>4.0</td>\n",
       "      <td>6.0</td>\n",
       "      <td>5.0</td>\n",
       "    </tr>\n",
       "    <tr>\n",
       "      <th>5</th>\n",
       "      <td>3</td>\n",
       "      <td>1</td>\n",
       "      <td>2</td>\n",
       "      <td>2.0</td>\n",
       "      <td>3</td>\n",
       "      <td>1</td>\n",
       "      <td>5</td>\n",
       "      <td>2</td>\n",
       "      <td>2</td>\n",
       "      <td>5</td>\n",
       "      <td>...</td>\n",
       "      <td>2.0</td>\n",
       "      <td>3.0</td>\n",
       "      <td>1.0</td>\n",
       "      <td>1.0</td>\n",
       "      <td>1.0</td>\n",
       "      <td>5.0</td>\n",
       "      <td>5.0</td>\n",
       "      <td>2.0</td>\n",
       "      <td>3.0</td>\n",
       "      <td>3.0</td>\n",
       "    </tr>\n",
       "    <tr>\n",
       "      <th>6</th>\n",
       "      <td>-1</td>\n",
       "      <td>2</td>\n",
       "      <td>2</td>\n",
       "      <td>5.0</td>\n",
       "      <td>1</td>\n",
       "      <td>5</td>\n",
       "      <td>1</td>\n",
       "      <td>5</td>\n",
       "      <td>4</td>\n",
       "      <td>3</td>\n",
       "      <td>...</td>\n",
       "      <td>3.0</td>\n",
       "      <td>3.0</td>\n",
       "      <td>1.0</td>\n",
       "      <td>0.0</td>\n",
       "      <td>1.0</td>\n",
       "      <td>5.0</td>\n",
       "      <td>5.0</td>\n",
       "      <td>4.0</td>\n",
       "      <td>6.0</td>\n",
       "      <td>3.0</td>\n",
       "    </tr>\n",
       "    <tr>\n",
       "      <th>7</th>\n",
       "      <td>-1</td>\n",
       "      <td>1</td>\n",
       "      <td>1</td>\n",
       "      <td>3.0</td>\n",
       "      <td>3</td>\n",
       "      <td>3</td>\n",
       "      <td>4</td>\n",
       "      <td>1</td>\n",
       "      <td>3</td>\n",
       "      <td>2</td>\n",
       "      <td>...</td>\n",
       "      <td>3.0</td>\n",
       "      <td>3.0</td>\n",
       "      <td>1.0</td>\n",
       "      <td>0.0</td>\n",
       "      <td>1.0</td>\n",
       "      <td>4.0</td>\n",
       "      <td>4.0</td>\n",
       "      <td>2.0</td>\n",
       "      <td>5.0</td>\n",
       "      <td>2.0</td>\n",
       "    </tr>\n",
       "    <tr>\n",
       "      <th>8</th>\n",
       "      <td>-1</td>\n",
       "      <td>3</td>\n",
       "      <td>1</td>\n",
       "      <td>3.0</td>\n",
       "      <td>4</td>\n",
       "      <td>4</td>\n",
       "      <td>2</td>\n",
       "      <td>4</td>\n",
       "      <td>2</td>\n",
       "      <td>2</td>\n",
       "      <td>...</td>\n",
       "      <td>2.0</td>\n",
       "      <td>3.0</td>\n",
       "      <td>2.0</td>\n",
       "      <td>1.0</td>\n",
       "      <td>1.0</td>\n",
       "      <td>3.0</td>\n",
       "      <td>3.0</td>\n",
       "      <td>2.0</td>\n",
       "      <td>4.0</td>\n",
       "      <td>3.0</td>\n",
       "    </tr>\n",
       "    <tr>\n",
       "      <th>9</th>\n",
       "      <td>-1</td>\n",
       "      <td>3</td>\n",
       "      <td>2</td>\n",
       "      <td>4.0</td>\n",
       "      <td>2</td>\n",
       "      <td>4</td>\n",
       "      <td>2</td>\n",
       "      <td>3</td>\n",
       "      <td>5</td>\n",
       "      <td>4</td>\n",
       "      <td>...</td>\n",
       "      <td>2.0</td>\n",
       "      <td>3.0</td>\n",
       "      <td>2.0</td>\n",
       "      <td>1.0</td>\n",
       "      <td>1.0</td>\n",
       "      <td>3.0</td>\n",
       "      <td>3.0</td>\n",
       "      <td>2.0</td>\n",
       "      <td>3.0</td>\n",
       "      <td>1.0</td>\n",
       "    </tr>\n",
       "  </tbody>\n",
       "</table>\n",
       "<p>10 rows × 85 columns</p>\n",
       "</div>"
      ],
      "text/plain": [
       "   AGER_TYP  ALTERSKATEGORIE_GROB  ANREDE_KZ  CJT_GESAMTTYP  \\\n",
       "0        -1                     2          1            2.0   \n",
       "1        -1                     1          2            5.0   \n",
       "2        -1                     3          2            3.0   \n",
       "3         2                     4          2            2.0   \n",
       "4        -1                     3          1            5.0   \n",
       "5         3                     1          2            2.0   \n",
       "6        -1                     2          2            5.0   \n",
       "7        -1                     1          1            3.0   \n",
       "8        -1                     3          1            3.0   \n",
       "9        -1                     3          2            4.0   \n",
       "\n",
       "   FINANZ_MINIMALIST  FINANZ_SPARER  FINANZ_VORSORGER  FINANZ_ANLEGER  \\\n",
       "0                  3              4                 3               5   \n",
       "1                  1              5                 2               5   \n",
       "2                  1              4                 1               2   \n",
       "3                  4              2                 5               2   \n",
       "4                  4              3                 4               1   \n",
       "5                  3              1                 5               2   \n",
       "6                  1              5                 1               5   \n",
       "7                  3              3                 4               1   \n",
       "8                  4              4                 2               4   \n",
       "9                  2              4                 2               3   \n",
       "\n",
       "   FINANZ_UNAUFFAELLIGER  FINANZ_HAUSBAUER  ...  PLZ8_ANTG1  PLZ8_ANTG2  \\\n",
       "0                      5                 3  ...         NaN         NaN   \n",
       "1                      4                 5  ...         2.0         3.0   \n",
       "2                      3                 5  ...         3.0         3.0   \n",
       "3                      1                 2  ...         2.0         2.0   \n",
       "4                      3                 2  ...         2.0         4.0   \n",
       "5                      2                 5  ...         2.0         3.0   \n",
       "6                      4                 3  ...         3.0         3.0   \n",
       "7                      3                 2  ...         3.0         3.0   \n",
       "8                      2                 2  ...         2.0         3.0   \n",
       "9                      5                 4  ...         2.0         3.0   \n",
       "\n",
       "   PLZ8_ANTG3  PLZ8_ANTG4  PLZ8_BAUMAX  PLZ8_HHZ  PLZ8_GBZ  ARBEIT  \\\n",
       "0         NaN         NaN          NaN       NaN       NaN     NaN   \n",
       "1         2.0         1.0          1.0       5.0       4.0     3.0   \n",
       "2         1.0         0.0          1.0       4.0       4.0     3.0   \n",
       "3         2.0         0.0          1.0       3.0       4.0     2.0   \n",
       "4         2.0         1.0          2.0       3.0       3.0     4.0   \n",
       "5         1.0         1.0          1.0       5.0       5.0     2.0   \n",
       "6         1.0         0.0          1.0       5.0       5.0     4.0   \n",
       "7         1.0         0.0          1.0       4.0       4.0     2.0   \n",
       "8         2.0         1.0          1.0       3.0       3.0     2.0   \n",
       "9         2.0         1.0          1.0       3.0       3.0     2.0   \n",
       "\n",
       "   ORTSGR_KLS9  RELAT_AB  \n",
       "0          NaN       NaN  \n",
       "1          5.0       4.0  \n",
       "2          5.0       2.0  \n",
       "3          3.0       3.0  \n",
       "4          6.0       5.0  \n",
       "5          3.0       3.0  \n",
       "6          6.0       3.0  \n",
       "7          5.0       2.0  \n",
       "8          4.0       3.0  \n",
       "9          3.0       1.0  \n",
       "\n",
       "[10 rows x 85 columns]"
      ]
     },
     "execution_count": 4,
     "metadata": {},
     "output_type": "execute_result"
    }
   ],
   "source": [
    "# print the first few rows of the azdias dataset  \n",
    "azdias.head(10)"
   ]
  },
  {
   "cell_type": "code",
   "execution_count": 5,
   "metadata": {
    "scrolled": true
   },
   "outputs": [
    {
     "data": {
      "text/html": [
       "<div>\n",
       "<style scoped>\n",
       "    .dataframe tbody tr th:only-of-type {\n",
       "        vertical-align: middle;\n",
       "    }\n",
       "\n",
       "    .dataframe tbody tr th {\n",
       "        vertical-align: top;\n",
       "    }\n",
       "\n",
       "    .dataframe thead th {\n",
       "        text-align: right;\n",
       "    }\n",
       "</style>\n",
       "<table border=\"1\" class=\"dataframe\">\n",
       "  <thead>\n",
       "    <tr style=\"text-align: right;\">\n",
       "      <th></th>\n",
       "      <th>attribute</th>\n",
       "      <th>information_level</th>\n",
       "      <th>type</th>\n",
       "      <th>missing_or_unknown</th>\n",
       "    </tr>\n",
       "  </thead>\n",
       "  <tbody>\n",
       "    <tr>\n",
       "      <th>0</th>\n",
       "      <td>AGER_TYP</td>\n",
       "      <td>person</td>\n",
       "      <td>categorical</td>\n",
       "      <td>[-1,0]</td>\n",
       "    </tr>\n",
       "    <tr>\n",
       "      <th>1</th>\n",
       "      <td>ALTERSKATEGORIE_GROB</td>\n",
       "      <td>person</td>\n",
       "      <td>ordinal</td>\n",
       "      <td>[-1,0,9]</td>\n",
       "    </tr>\n",
       "    <tr>\n",
       "      <th>2</th>\n",
       "      <td>ANREDE_KZ</td>\n",
       "      <td>person</td>\n",
       "      <td>categorical</td>\n",
       "      <td>[-1,0]</td>\n",
       "    </tr>\n",
       "    <tr>\n",
       "      <th>3</th>\n",
       "      <td>CJT_GESAMTTYP</td>\n",
       "      <td>person</td>\n",
       "      <td>categorical</td>\n",
       "      <td>[0]</td>\n",
       "    </tr>\n",
       "    <tr>\n",
       "      <th>4</th>\n",
       "      <td>FINANZ_MINIMALIST</td>\n",
       "      <td>person</td>\n",
       "      <td>ordinal</td>\n",
       "      <td>[-1]</td>\n",
       "    </tr>\n",
       "  </tbody>\n",
       "</table>\n",
       "</div>"
      ],
      "text/plain": [
       "              attribute information_level         type missing_or_unknown\n",
       "0              AGER_TYP            person  categorical             [-1,0]\n",
       "1  ALTERSKATEGORIE_GROB            person      ordinal           [-1,0,9]\n",
       "2             ANREDE_KZ            person  categorical             [-1,0]\n",
       "3         CJT_GESAMTTYP            person  categorical                [0]\n",
       "4     FINANZ_MINIMALIST            person      ordinal               [-1]"
      ]
     },
     "execution_count": 5,
     "metadata": {},
     "output_type": "execute_result"
    }
   ],
   "source": [
    "# print the first few rows of the feat_info dataset  \n",
    "feat_info.head(5)"
   ]
  },
  {
   "cell_type": "code",
   "execution_count": 6,
   "metadata": {},
   "outputs": [
    {
     "name": "stdout",
     "output_type": "stream",
     "text": [
      "<class 'pandas.core.frame.DataFrame'>\n",
      "RangeIndex: 891221 entries, 0 to 891220\n",
      "Data columns (total 85 columns):\n",
      " #   Column                 Non-Null Count   Dtype  \n",
      "---  ------                 --------------   -----  \n",
      " 0   AGER_TYP               891221 non-null  int64  \n",
      " 1   ALTERSKATEGORIE_GROB   891221 non-null  int64  \n",
      " 2   ANREDE_KZ              891221 non-null  int64  \n",
      " 3   CJT_GESAMTTYP          886367 non-null  float64\n",
      " 4   FINANZ_MINIMALIST      891221 non-null  int64  \n",
      " 5   FINANZ_SPARER          891221 non-null  int64  \n",
      " 6   FINANZ_VORSORGER       891221 non-null  int64  \n",
      " 7   FINANZ_ANLEGER         891221 non-null  int64  \n",
      " 8   FINANZ_UNAUFFAELLIGER  891221 non-null  int64  \n",
      " 9   FINANZ_HAUSBAUER       891221 non-null  int64  \n",
      " 10  FINANZTYP              891221 non-null  int64  \n",
      " 11  GEBURTSJAHR            891221 non-null  int64  \n",
      " 12  GFK_URLAUBERTYP        886367 non-null  float64\n",
      " 13  GREEN_AVANTGARDE       891221 non-null  int64  \n",
      " 14  HEALTH_TYP             891221 non-null  int64  \n",
      " 15  LP_LEBENSPHASE_FEIN    886367 non-null  float64\n",
      " 16  LP_LEBENSPHASE_GROB    886367 non-null  float64\n",
      " 17  LP_FAMILIE_FEIN        886367 non-null  float64\n",
      " 18  LP_FAMILIE_GROB        886367 non-null  float64\n",
      " 19  LP_STATUS_FEIN         886367 non-null  float64\n",
      " 20  LP_STATUS_GROB         886367 non-null  float64\n",
      " 21  NATIONALITAET_KZ       891221 non-null  int64  \n",
      " 22  PRAEGENDE_JUGENDJAHRE  891221 non-null  int64  \n",
      " 23  RETOURTYP_BK_S         886367 non-null  float64\n",
      " 24  SEMIO_SOZ              891221 non-null  int64  \n",
      " 25  SEMIO_FAM              891221 non-null  int64  \n",
      " 26  SEMIO_REL              891221 non-null  int64  \n",
      " 27  SEMIO_MAT              891221 non-null  int64  \n",
      " 28  SEMIO_VERT             891221 non-null  int64  \n",
      " 29  SEMIO_LUST             891221 non-null  int64  \n",
      " 30  SEMIO_ERL              891221 non-null  int64  \n",
      " 31  SEMIO_KULT             891221 non-null  int64  \n",
      " 32  SEMIO_RAT              891221 non-null  int64  \n",
      " 33  SEMIO_KRIT             891221 non-null  int64  \n",
      " 34  SEMIO_DOM              891221 non-null  int64  \n",
      " 35  SEMIO_KAEM             891221 non-null  int64  \n",
      " 36  SEMIO_PFLICHT          891221 non-null  int64  \n",
      " 37  SEMIO_TRADV            891221 non-null  int64  \n",
      " 38  SHOPPER_TYP            891221 non-null  int64  \n",
      " 39  SOHO_KZ                817722 non-null  float64\n",
      " 40  TITEL_KZ               817722 non-null  float64\n",
      " 41  VERS_TYP               891221 non-null  int64  \n",
      " 42  ZABEOTYP               891221 non-null  int64  \n",
      " 43  ALTER_HH               817722 non-null  float64\n",
      " 44  ANZ_PERSONEN           817722 non-null  float64\n",
      " 45  ANZ_TITEL              817722 non-null  float64\n",
      " 46  HH_EINKOMMEN_SCORE     872873 non-null  float64\n",
      " 47  KK_KUNDENTYP           306609 non-null  float64\n",
      " 48  W_KEIT_KIND_HH         783619 non-null  float64\n",
      " 49  WOHNDAUER_2008         817722 non-null  float64\n",
      " 50  ANZ_HAUSHALTE_AKTIV    798073 non-null  float64\n",
      " 51  ANZ_HH_TITEL           794213 non-null  float64\n",
      " 52  GEBAEUDETYP            798073 non-null  float64\n",
      " 53  KONSUMNAEHE            817252 non-null  float64\n",
      " 54  MIN_GEBAEUDEJAHR       798073 non-null  float64\n",
      " 55  OST_WEST_KZ            798073 non-null  object \n",
      " 56  WOHNLAGE               798073 non-null  float64\n",
      " 57  CAMEO_DEUG_2015        792242 non-null  object \n",
      " 58  CAMEO_DEU_2015         792242 non-null  object \n",
      " 59  CAMEO_INTL_2015        792242 non-null  object \n",
      " 60  KBA05_ANTG1            757897 non-null  float64\n",
      " 61  KBA05_ANTG2            757897 non-null  float64\n",
      " 62  KBA05_ANTG3            757897 non-null  float64\n",
      " 63  KBA05_ANTG4            757897 non-null  float64\n",
      " 64  KBA05_BAUMAX           757897 non-null  float64\n",
      " 65  KBA05_GBZ              757897 non-null  float64\n",
      " 66  BALLRAUM               797481 non-null  float64\n",
      " 67  EWDICHTE               797481 non-null  float64\n",
      " 68  INNENSTADT             797481 non-null  float64\n",
      " 69  GEBAEUDETYP_RASTER     798066 non-null  float64\n",
      " 70  KKK                    770025 non-null  float64\n",
      " 71  MOBI_REGIO             757897 non-null  float64\n",
      " 72  ONLINE_AFFINITAET      886367 non-null  float64\n",
      " 73  REGIOTYP               770025 non-null  float64\n",
      " 74  KBA13_ANZAHL_PKW       785421 non-null  float64\n",
      " 75  PLZ8_ANTG1             774706 non-null  float64\n",
      " 76  PLZ8_ANTG2             774706 non-null  float64\n",
      " 77  PLZ8_ANTG3             774706 non-null  float64\n",
      " 78  PLZ8_ANTG4             774706 non-null  float64\n",
      " 79  PLZ8_BAUMAX            774706 non-null  float64\n",
      " 80  PLZ8_HHZ               774706 non-null  float64\n",
      " 81  PLZ8_GBZ               774706 non-null  float64\n",
      " 82  ARBEIT                 794005 non-null  float64\n",
      " 83  ORTSGR_KLS9            794005 non-null  float64\n",
      " 84  RELAT_AB               794005 non-null  float64\n",
      "dtypes: float64(49), int64(32), object(4)\n",
      "memory usage: 578.0+ MB\n",
      "<class 'pandas.core.frame.DataFrame'>\n",
      "RangeIndex: 85 entries, 0 to 84\n",
      "Data columns (total 4 columns):\n",
      " #   Column              Non-Null Count  Dtype \n",
      "---  ------              --------------  ----- \n",
      " 0   attribute           85 non-null     object\n",
      " 1   information_level   85 non-null     object\n",
      " 2   type                85 non-null     object\n",
      " 3   missing_or_unknown  85 non-null     object\n",
      "dtypes: object(4)\n",
      "memory usage: 2.8+ KB\n"
     ]
    }
   ],
   "source": [
    "azdias.info()\n",
    "feat_info.info()"
   ]
  },
  {
   "cell_type": "markdown",
   "metadata": {},
   "source": [
    "> **Tip**: Add additional cells to keep everything in reasonably-sized chunks! Keyboard shortcut `esc --> a` (press escape to enter command mode, then press the 'A' key) adds a new cell before the active cell, and `esc --> b` adds a new cell after the active cell. If you need to convert an active cell to a markdown cell, use `esc --> m` and to convert to a code cell, use `esc --> y`. \n",
    "\n",
    "## Step 1: Preprocessing\n",
    "\n",
    "### Step 1.1: Assess Missing Data\n",
    "\n",
    "The feature summary file contains a summary of properties for each demographics data column. You will use this file to help you make cleaning decisions during this stage of the project. First of all, you should assess the demographics data in terms of missing data. Pay attention to the following points as you perform your analysis, and take notes on what you observe. Make sure that you fill in the **Discussion** cell with your findings and decisions at the end of each step that has one!\n",
    "\n",
    "#### Step 1.1.1: Convert Missing Value Codes to NaNs\n",
    "The fourth column of the feature attributes summary (loaded in above as `feat_info`) documents the codes from the data dictionary that indicate missing or unknown data. While the file encodes this as a list (e.g. `[-1,0]`), this will get read in as a string object. You'll need to do a little bit of parsing to make use of it to identify and clean the data. Convert data that matches a 'missing' or 'unknown' value code into a numpy NaN value. You might want to see how much data takes on a 'missing' or 'unknown' code, and how much data is naturally missing, as a point of interest.\n",
    "\n",
    "**As one more reminder, you are encouraged to add additional cells to break up your analysis into manageable chunks.**"
   ]
  },
  {
   "cell_type": "code",
   "execution_count": 7,
   "metadata": {},
   "outputs": [
    {
     "name": "stdout",
     "output_type": "stream",
     "text": [
      "The number of all missing values is: 4896838\n"
     ]
    }
   ],
   "source": [
    "# Identify missing or unknown data values \n",
    "#azdias.isnull().sum().sum()\n",
    "print('The number of all missing values is: {}'.format(azdias.isnull().sum().sum()))"
   ]
  },
  {
   "cell_type": "code",
   "execution_count": 8,
   "metadata": {},
   "outputs": [
    {
     "name": "stdout",
     "output_type": "stream",
     "text": [
      "The number of all missing values after conversion is: 8373929\n"
     ]
    }
   ],
   "source": [
    "#and convert them to NaNs.\n",
    "for i in range(len(feat_info)):\n",
    "    missing_or_unknown = feat_info.iloc[i]['missing_or_unknown']\n",
    "    missing_or_unknown = missing_or_unknown.strip('[')\n",
    "    missing_or_unknown = missing_or_unknown.strip(']')\n",
    "    missing_or_unknown = missing_or_unknown.split(sep=',')\n",
    "    missing_or_unknown = [int(value) if (value!='X' and value!='XX' and value!='') else value for value in missing_or_unknown]\n",
    "    if missing_or_unknown != ['']:\n",
    "        azdias = azdias.replace({feat_info.iloc[i]['attribute']: missing_or_unknown}, np.nan)\n",
    "        \n",
    "print('The number of all missing values after conversion is: {}'.format(azdias.isnull().sum().sum()))"
   ]
  },
  {
   "cell_type": "markdown",
   "metadata": {},
   "source": [
    "#### Step 1.1.2: Assess Missing Data in Each Column\n",
    "\n",
    "How much missing data is present in each column? There are a few columns that are outliers in terms of the proportion of values that are missing. You will want to use matplotlib's [`hist()`](https://matplotlib.org/api/_as_gen/matplotlib.pyplot.hist.html) function to visualize the distribution of missing value counts to find these columns. Identify and document these columns. While some of these columns might have justifications for keeping or re-encoding the data, for this project you should just remove them from the dataframe. (Feel free to make remarks about these outlier columns in the discussion, however!)\n",
    "\n",
    "For the remaining features, are there any patterns in which columns have, or share, missing data?"
   ]
  },
  {
   "cell_type": "code",
   "execution_count": 9,
   "metadata": {},
   "outputs": [
    {
     "data": {
      "text/plain": [
       "2.0    98472\n",
       "1.0    79802\n",
       "3.0    27104\n",
       "Name: AGER_TYP, dtype: int64"
      ]
     },
     "execution_count": 9,
     "metadata": {},
     "output_type": "execute_result"
    }
   ],
   "source": [
    "azdias.AGER_TYP.value_counts()\n",
    "#azdias.AGER_TYP.isnull().sum()"
   ]
  },
  {
   "cell_type": "code",
   "execution_count": 10,
   "metadata": {},
   "outputs": [
    {
     "data": {
      "text/plain": [
       "ALTERSKATEGORIE_GROB     0.323264\n",
       "GFK_URLAUBERTYP          0.544646\n",
       "LP_STATUS_GROB           0.544646\n",
       "LP_STATUS_FEIN           0.544646\n",
       "ONLINE_AFFINITAET        0.544646\n",
       "                          ...    \n",
       "GEBURTSJAHR             44.020282\n",
       "KBA05_BAUMAX            53.468668\n",
       "KK_KUNDENTYP            65.596749\n",
       "AGER_TYP                76.955435\n",
       "TITEL_KZ                99.757636\n",
       "Length: 61, dtype: float64"
      ]
     },
     "execution_count": 10,
     "metadata": {},
     "output_type": "execute_result"
    }
   ],
   "source": [
    "# Perform an assessment of how much missing data there is in each column of the\n",
    "# dataset.\n",
    "null_values=azdias.isnull().sum()\n",
    "null_values.sort_values(ascending=True,inplace=True)\n",
    "\n",
    "#to calculate the percentage of missing values in each column, then drop any column higher than 20%\n",
    "null_values_percentage=null_values[null_values>0]/(azdias.shape[0])*100 \n",
    "null_values_percentage"
   ]
  },
  {
   "cell_type": "code",
   "execution_count": 11,
   "metadata": {},
   "outputs": [
    {
     "data": {
      "image/png": "[encoded data removed]",
      "text/plain": [
       "<Figure size 432x288 with 1 Axes>"
      ]
     },
     "metadata": {
      "needs_background": "light"
     },
     "output_type": "display_data"
    }
   ],
   "source": [
    "plt.hist(null_values_percentage)\n",
    "plt.ylabel('Number of Columns')\n",
    "plt.xlabel('Percentage of Missing Values')\n",
    "plt.title('Histogram of missing values for columns')\n",
    "plt.show()"
   ]
  },
  {
   "cell_type": "code",
   "execution_count": 12,
   "metadata": {},
   "outputs": [
    {
     "data": {
      "image/png": "[encoded data removed]",
      "text/plain": [
       "<Figure size 2160x2160 with 1 Axes>"
      ]
     },
     "metadata": {
      "needs_background": "light"
     },
     "output_type": "display_data"
    }
   ],
   "source": [
    "# Investigate patterns in the amount of missing data in each column.\n",
    "null_values_percentage.plot.barh(figsize=(30,30))\n",
    "plt.xlabel('Percentage of missing values')\n",
    "plt.ylabel('Column name')\n",
    "plt.show()"
   ]
  },
  {
   "cell_type": "code",
   "execution_count": 13,
   "metadata": {},
   "outputs": [
    {
     "name": "stdout",
     "output_type": "stream",
     "text": [
      "The columns with a percentage of missing values higher than 20%:\n",
      "ALTER_HH        34.813699\n",
      "GEBURTSJAHR     44.020282\n",
      "KBA05_BAUMAX    53.468668\n",
      "KK_KUNDENTYP    65.596749\n",
      "AGER_TYP        76.955435\n",
      "TITEL_KZ        99.757636\n",
      "dtype: float64\n"
     ]
    }
   ],
   "source": [
    "\n",
    "print('The columns with a percentage of missing values higher than 20%:\\n{}'.format(null_values_percentage[null_values_percentage>20]))\n"
   ]
  },
  {
   "cell_type": "code",
   "execution_count": 14,
   "metadata": {},
   "outputs": [
    {
     "data": {
      "text/plain": [
       "(891221, 85)"
      ]
     },
     "execution_count": 14,
     "metadata": {},
     "output_type": "execute_result"
    }
   ],
   "source": [
    "azdias.shape"
   ]
  },
  {
   "cell_type": "code",
   "execution_count": 15,
   "metadata": {},
   "outputs": [
    {
     "data": {
      "text/plain": [
       "(891221, 79)"
      ]
     },
     "execution_count": 15,
     "metadata": {},
     "output_type": "execute_result"
    }
   ],
   "source": [
    "# Remove the outlier columns from the dataset. (You'll perform other data\n",
    "# engineering tasks such as re-encoding and imputation later.)\n",
    "\n",
    "drop_columns=null_values_percentage[null_values_percentage>20].index\n",
    "\n",
    "#drop_columns\n",
    "azdias.drop(columns=drop_columns,axis=\"columns\",inplace=True)\n",
    "\n",
    "azdias.shape"
   ]
  },
  {
   "cell_type": "markdown",
   "metadata": {},
   "source": [
    "#### Discussion 1.1.2: Assess Missing Data in Each Column\n",
    "\n",
    "After investigating the missing values in each column through histogram and bar chart, i found that only six columns have more than 20% of its values as missing or unknown (Null). Those six columns (ALTER_HH, GEBURTSJAHR, KBA05_BAUMAX, KK_KUNDENTYP, AGER_TYP, TITEL_KZ) were dropped form the azdias dataset."
   ]
  },
  {
   "cell_type": "markdown",
   "metadata": {},
   "source": [
    "#### Step 1.1.3: Assess Missing Data in Each Row\n",
    "\n",
    "Now, you'll perform a similar assessment for the rows of the dataset. How much data is missing in each row? As with the columns, you should see some groups of points that have a very different numbers of missing values. Divide the data into two subsets: one for data points that are above some threshold for missing values, and a second subset for points below that threshold.\n",
    "\n",
    "In order to know what to do with the outlier rows, we should see if the distribution of data values on columns that are not missing data (or are missing very little data) are similar or different between the two groups. Select at least five of these columns and compare the distribution of values.\n",
    "- You can use seaborn's [`countplot()`](https://seaborn.pydata.org/generated/seaborn.countplot.html) function to create a bar chart of code frequencies and matplotlib's [`subplot()`](https://matplotlib.org/api/_as_gen/matplotlib.pyplot.subplot.html) function to put bar charts for the two subplots side by side.\n",
    "- To reduce repeated code, you might want to write a function that can perform this comparison, taking as one of its arguments a column to be compared.\n",
    "\n",
    "Depending on what you observe in your comparison, this will have implications on how you approach your conclusions later in the analysis. If the distributions of non-missing features look similar between the data with many missing values and the data with few or no missing values, then we could argue that simply dropping those points from the analysis won't present a major issue. On the other hand, if the data with many missing values looks very different from the data with few or no missing values, then we should make a note on those data as special. We'll revisit these data later on. **Either way, you should continue your analysis for now using just the subset of the data with few or no missing values.**"
   ]
  },
  {
   "cell_type": "code",
   "execution_count": 16,
   "metadata": {},
   "outputs": [
    {
     "data": {
      "text/plain": [
       "0         43\n",
       "1          0\n",
       "2          0\n",
       "3          7\n",
       "4          0\n",
       "          ..\n",
       "891216     3\n",
       "891217     4\n",
       "891218     5\n",
       "891219     0\n",
       "891220     0\n",
       "Length: 891221, dtype: int64"
      ]
     },
     "execution_count": 16,
     "metadata": {},
     "output_type": "execute_result"
    }
   ],
   "source": [
    "# How much data is missing in each row of the dataset?\n",
    "missing_values_rows =azdias.isnull().sum(axis=1)\n",
    "missing_values_rows"
   ]
  },
  {
   "cell_type": "code",
   "execution_count": 17,
   "metadata": {},
   "outputs": [
    {
     "data": {
      "image/png": "[encoded data removed]",
      "text/plain": [
       "<Figure size 432x288 with 1 Axes>"
      ]
     },
     "metadata": {
      "needs_background": "light"
     },
     "output_type": "display_data"
    }
   ],
   "source": [
    "#Histogram of missing values for rows\n",
    "missing_values_rows =azdias.isnull().sum(axis=1)\n",
    "plt.hist(missing_values_rows)\n",
    "plt.ylabel('Number of Rows')\n",
    "plt.xlabel('Number of Missing Values')\n",
    "plt.title('Histogram of missing values for rows')\n",
    "plt.show()\n"
   ]
  },
  {
   "cell_type": "code",
   "execution_count": 18,
   "metadata": {},
   "outputs": [],
   "source": [
    "# Write code to divide the data into two subsets based on the number of missing\n",
    "# values in each row.\n",
    "\n",
    "azdias_less_30=azdias[missing_values_rows<30]\n",
    "azdias_above_30=azdias[missing_values_rows>=30]\n"
   ]
  },
  {
   "cell_type": "code",
   "execution_count": 19,
   "metadata": {},
   "outputs": [
    {
     "data": {
      "text/plain": [
       "(798061, 79)"
      ]
     },
     "execution_count": 19,
     "metadata": {},
     "output_type": "execute_result"
    }
   ],
   "source": [
    "azdias_less_30.shape\n"
   ]
  },
  {
   "cell_type": "code",
   "execution_count": 20,
   "metadata": {},
   "outputs": [
    {
     "data": {
      "text/plain": [
       "(93160, 79)"
      ]
     },
     "execution_count": 20,
     "metadata": {},
     "output_type": "execute_result"
    }
   ],
   "source": [
    "azdias_above_30.shape"
   ]
  },
  {
   "cell_type": "code",
   "execution_count": 21,
   "metadata": {},
   "outputs": [
    {
     "data": {
      "text/plain": [
       "0.895469249490306"
      ]
     },
     "execution_count": 21,
     "metadata": {},
     "output_type": "execute_result"
    }
   ],
   "source": [
    "azdias_less_30.shape[0]/azdias.shape[0]"
   ]
  },
  {
   "cell_type": "code",
   "execution_count": 22,
   "metadata": {},
   "outputs": [
    {
     "name": "stdout",
     "output_type": "stream",
     "text": [
      "The following random columns will be used for comparison:\n",
      "Index(['ALTERSKATEGORIE_GROB', 'GFK_URLAUBERTYP', 'LP_STATUS_GROB',\n",
      "       'LP_STATUS_FEIN', 'ONLINE_AFFINITAET'],\n",
      "      dtype='object')\n"
     ]
    }
   ],
   "source": [
    "# Compare the distribution of values for at least five columns where there are\n",
    "# no or few missing values, between the two subsets.\n",
    "columns = null_values_percentage[null_values_percentage<20].index\n",
    "#Random_columns = columns.sample(5)\n",
    "\n",
    "Random_columns = columns[:5]\n",
    "print('The following random columns will be used for comparison:\\n{}'.format(Random_columns))"
   ]
  },
  {
   "cell_type": "code",
   "execution_count": 23,
   "metadata": {},
   "outputs": [
    {
     "data": {
      "image/png": "[encoded data removed]",
      "text/plain": [
       "<Figure size 1080x288 with 2 Axes>"
      ]
     },
     "metadata": {
      "needs_background": "light"
     },
     "output_type": "display_data"
    },
    {
     "data": {
      "image/png": "[encoded data removed]",
      "text/plain": [
       "<Figure size 1080x288 with 2 Axes>"
      ]
     },
     "metadata": {
      "needs_background": "light"
     },
     "output_type": "display_data"
    },
    {
     "data": {
      "image/png": "[encoded data removed]",
      "text/plain": [
       "<Figure size 1080x288 with 2 Axes>"
      ]
     },
     "metadata": {
      "needs_background": "light"
     },
     "output_type": "display_data"
    },
    {
     "data": {
      "image/png": "[encoded data removed]",
      "text/plain": [
       "<Figure size 1080x288 with 2 Axes>"
      ]
     },
     "metadata": {
      "needs_background": "light"
     },
     "output_type": "display_data"
    },
    {
     "data": {
      "image/png": "[encoded data removed]",
      "text/plain": [
       "<Figure size 1080x288 with 2 Axes>"
      ]
     },
     "metadata": {
      "needs_background": "light"
     },
     "output_type": "display_data"
    }
   ],
   "source": [
    "#Random_columns = Random_columns.index\n",
    "for i in Random_columns:\n",
    "    fig, (ax1, ax2) = plt.subplots(1, 2)\n",
    "    fig.set_figwidth(15)\n",
    "    ax1.set_title('Missing values less than 30')\n",
    "    sns.countplot(azdias.loc[azdias_less_30.index,i],ax=ax1)\n",
    "\n",
    "    ax2.set_title('Missing values above 30')\n",
    "    sns.countplot(azdias.loc[azdias_above_30.index,i],ax=ax2)\n",
    "    \n",
    "    plt.show()"
   ]
  },
  {
   "cell_type": "markdown",
   "metadata": {},
   "source": [
    "#### Discussion 1.1.3: Assess Missing Data in Each Row\n",
    "\n",
    "based on the 5 selected columns in the above diagrms, yes there are differences in the distributions of values between the 2 datasets."
   ]
  },
  {
   "cell_type": "code",
   "execution_count": 24,
   "metadata": {},
   "outputs": [
    {
     "data": {
      "text/plain": [
       "1         0\n",
       "2         0\n",
       "3         0\n",
       "4         0\n",
       "5         0\n",
       "         ..\n",
       "891216    0\n",
       "891217    0\n",
       "891218    0\n",
       "891219    0\n",
       "891220    0\n",
       "Length: 798061, dtype: int64"
      ]
     },
     "execution_count": 24,
     "metadata": {},
     "output_type": "execute_result"
    }
   ],
   "source": [
    "azdias_less_30 = azdias_less_30.fillna(azdias_less_30.mode().iloc[0])\n",
    "azdias_less_30.isnull().sum(axis=1)"
   ]
  },
  {
   "cell_type": "markdown",
   "metadata": {},
   "source": [
    "### Step 1.2: Select and Re-Encode Features\n",
    "\n",
    "Checking for missing data isn't the only way in which you can prepare a dataset for analysis. Since the unsupervised learning techniques to be used will only work on data that is encoded numerically, you need to make a few encoding changes or additional assumptions to be able to make progress. In addition, while almost all of the values in the dataset are encoded using numbers, not all of them represent numeric values. Check the third column of the feature summary (`feat_info`) for a summary of types of measurement.\n",
    "- For numeric and interval data, these features can be kept without changes.\n",
    "- Most of the variables in the dataset are ordinal in nature. While ordinal values may technically be non-linear in spacing, make the simplifying assumption that the ordinal variables can be treated as being interval in nature (that is, kept without any changes).\n",
    "- Special handling may be necessary for the remaining two variable types: categorical, and 'mixed'.\n",
    "\n",
    "In the first two parts of this sub-step, you will perform an investigation of the categorical and mixed-type features and make a decision on each of them, whether you will keep, drop, or re-encode each. Then, in the last part, you will create a new data frame with only the selected and engineered columns.\n",
    "\n",
    "Data wrangling is often the trickiest part of the data analysis process, and there's a lot of it to be done here. But stick with it: once you're done with this step, you'll be ready to get to the machine learning parts of the project!"
   ]
  },
  {
   "cell_type": "code",
   "execution_count": 25,
   "metadata": {},
   "outputs": [
    {
     "name": "stdout",
     "output_type": "stream",
     "text": [
      "The following shows the feature type and its counts in the dataset:\n"
     ]
    },
    {
     "data": {
      "text/plain": [
       "ordinal        49\n",
       "categorical    18\n",
       "mixed           6\n",
       "numeric         6\n",
       "Name: type, dtype: int64"
      ]
     },
     "execution_count": 25,
     "metadata": {},
     "output_type": "execute_result"
    }
   ],
   "source": [
    "# How many features are there of each data type?\n",
    "\n",
    "feat_info=feat_info[feat_info.attribute.isin(azdias_less_30.columns)]\n",
    "print('The following shows the feature type and its counts in the dataset:') \n",
    "feat_info.type.value_counts()\n"
   ]
  },
  {
   "cell_type": "markdown",
   "metadata": {},
   "source": [
    "#### Step 1.2.1: Re-Encode Categorical Features\n",
    "\n",
    "For categorical data, you would ordinarily need to encode the levels as dummy variables. Depending on the number of categories, perform one of the following:\n",
    "- For binary (two-level) categoricals that take numeric values, you can keep them without needing to do anything.\n",
    "- There is one binary variable that takes on non-numeric values. For this one, you need to re-encode the values as numbers or create a dummy variable.\n",
    "- For multi-level categoricals (three or more values), you can choose to encode the values using multiple dummy variables (e.g. via [OneHotEncoder](http://scikit-learn.org/stable/modules/generated/sklearn.preprocessing.OneHotEncoder.html)), or (to keep things straightforward) just drop them from the analysis. As always, document your choices in the Discussion section."
   ]
  },
  {
   "cell_type": "code",
   "execution_count": 26,
   "metadata": {},
   "outputs": [],
   "source": [
    "cat_variables=feat_info[feat_info.type==\"categorical\"]"
   ]
  },
  {
   "cell_type": "code",
   "execution_count": 27,
   "metadata": {},
   "outputs": [],
   "source": [
    "# Assess categorical variables: which are binary, which are multi-level, and\n",
    "# which one needs to be re-encoded?\n",
    "binary_cat=[]\n",
    "multi_level_cat=[]\n",
    "\n",
    "for i in cat_variables.attribute:\n",
    "    if azdias_less_30[i].nunique()==2:\n",
    "        binary_cat.append(i)\n",
    "    else:\n",
    "        multi_level_cat.append(i)\n",
    "\n",
    "#if condition\n",
    "#drop the multi\n",
    "#letters to int"
   ]
  },
  {
   "cell_type": "code",
   "execution_count": 28,
   "metadata": {},
   "outputs": [
    {
     "name": "stdout",
     "output_type": "stream",
     "text": [
      "There are 5 Binary features:\n",
      "['ANREDE_KZ', 'GREEN_AVANTGARDE', 'SOHO_KZ', 'VERS_TYP', 'OST_WEST_KZ']\n",
      "\n",
      "There are 13 Multi-level features:\n",
      "['CJT_GESAMTTYP', 'FINANZTYP', 'GFK_URLAUBERTYP', 'LP_FAMILIE_FEIN', 'LP_FAMILIE_GROB', 'LP_STATUS_FEIN', 'LP_STATUS_GROB', 'NATIONALITAET_KZ', 'SHOPPER_TYP', 'ZABEOTYP', 'GEBAEUDETYP', 'CAMEO_DEUG_2015', 'CAMEO_DEU_2015']\n"
     ]
    }
   ],
   "source": [
    "print('There are {} Binary features:\\n{}'.format(len(binary_cat), binary_cat))\n",
    "print('\\nThere are {} Multi-level features:\\n{}'.format(len(multi_level_cat), multi_level_cat))"
   ]
  },
  {
   "cell_type": "code",
   "execution_count": 29,
   "metadata": {},
   "outputs": [
    {
     "name": "stdout",
     "output_type": "stream",
     "text": [
      "Unique values for ANREDE_KZ are: [2 1]\n",
      "Unique values for GREEN_AVANTGARDE are: [0 1]\n",
      "Unique values for SOHO_KZ are: [1. 0.]\n",
      "Unique values for VERS_TYP are: [2. 1.]\n",
      "Unique values for OST_WEST_KZ are: ['W' 'O']\n"
     ]
    }
   ],
   "source": [
    "for i in binary_cat:\n",
    "    print('Unique values for {} are: {}'.format(i, azdias_less_30[i].unique()))"
   ]
  },
  {
   "cell_type": "code",
   "execution_count": 34,
   "metadata": {},
   "outputs": [],
   "source": [
    "for i in multi_level_cat:\n",
    "    azdias_less_30=azdias_less_30.drop(i, axis=1)"
   ]
  },
  {
   "cell_type": "code",
   "execution_count": 35,
   "metadata": {},
   "outputs": [
    {
     "data": {
      "text/plain": [
       "(798061, 66)"
      ]
     },
     "execution_count": 35,
     "metadata": {},
     "output_type": "execute_result"
    }
   ],
   "source": [
    "azdias_less_30.shape"
   ]
  },
  {
   "cell_type": "code",
   "execution_count": 32,
   "metadata": {},
   "outputs": [
    {
     "name": "stdout",
     "output_type": "stream",
     "text": [
      "Unique values for ANREDE_KZ are: [2 1]\n",
      "Unique values for GREEN_AVANTGARDE are: [0 1]\n",
      "Unique values for SOHO_KZ are: [1. 0.]\n",
      "Unique values for VERS_TYP are: [2. 1.]\n",
      "Unique values for OST_WEST_KZ are: [0 1]\n"
     ]
    }
   ],
   "source": [
    "# Re-encode categorical variable(s) to be kept in the analysis.\n",
    "\n",
    "azdias_less_30[\"OST_WEST_KZ\"].replace({'W':0,'O':1},inplace=True)\n",
    "\n",
    "for i in binary_cat:\n",
    "    print('Unique values for {} are: {}'.format(i, azdias_less_30[i].unique()))"
   ]
  },
  {
   "cell_type": "markdown",
   "metadata": {},
   "source": [
    "#### Discussion 1.2.1: Re-Encode Categorical Features\n",
    "\n",
    "1. I kept all the binary features: 'ANREDE_KZ', 'GREEN_AVANTGARDE', 'SOHO_KZ', 'VERS_TYP', 'OST_WEST_KZ'\n",
    "2. I re-encoded the values of 'OST_WEST_KZ' from letters [W,O] to [0, 1]\n",
    "3. I dropped all the multi-level features"
   ]
  },
  {
   "cell_type": "markdown",
   "metadata": {},
   "source": [
    "#### Step 1.2.2: Engineer Mixed-Type Features\n",
    "\n",
    "There are a handful of features that are marked as \"mixed\" in the feature summary that require special treatment in order to be included in the analysis. There are two in particular that deserve attention; the handling of the rest are up to your own choices:\n",
    "- \"PRAEGENDE_JUGENDJAHRE\" combines information on three dimensions: generation by decade, movement (mainstream vs. avantgarde), and nation (east vs. west). While there aren't enough levels to disentangle east from west, you should create two new variables to capture the other two dimensions: an interval-type variable for decade, and a binary variable for movement.\n",
    "- \"CAMEO_INTL_2015\" combines information on two axes: wealth and life stage. Break up the two-digit codes by their 'tens'-place and 'ones'-place digits into two new ordinal variables (which, for the purposes of this project, is equivalent to just treating them as their raw numeric values).\n",
    "- If you decide to keep or engineer new features around the other mixed-type features, make sure you note your steps in the Discussion section.\n",
    "\n",
    "Be sure to check `Data_Dictionary.md` for the details needed to finish these tasks."
   ]
  },
  {
   "cell_type": "code",
   "execution_count": 39,
   "metadata": {},
   "outputs": [
    {
     "data": {
      "text/plain": [
       "14.0    211738\n",
       "8.0     141630\n",
       "10.0     85808\n",
       "5.0      84691\n",
       "3.0      53845\n",
       "15.0     42547\n",
       "11.0     35752\n",
       "9.0      33570\n",
       "6.0      25652\n",
       "12.0     24446\n",
       "1.0      20678\n",
       "4.0      20451\n",
       "2.0       7479\n",
       "13.0      5764\n",
       "7.0       4010\n",
       "Name: PRAEGENDE_JUGENDJAHRE, dtype: int64"
      ]
     },
     "execution_count": 39,
     "metadata": {},
     "output_type": "execute_result"
    }
   ],
   "source": [
    "# Investigate \"PRAEGENDE_JUGENDJAHRE\" and engineer two new variables.\n",
    "azdias_less_30.PRAEGENDE_JUGENDJAHRE.value_counts()\n",
    "#azdias_less_30.PRAEGENDE_JUGENDJAHRE.head()\n"
   ]
  },
  {
   "cell_type": "code",
   "execution_count": 43,
   "metadata": {},
   "outputs": [],
   "source": [
    "decade_dic={1:1,2:1,3:2,4:2,5:3,6:3,7:3,8:4,9:4,10:5,11:5,12:5,13:5,14:6,15:6}\n",
    "movement_dic={1:1,2:0,3:1,4:0,5:1,6:0,7:0,8:1,9:0,10:1,11:0,12:1,13:0,14:1,15:0}\n",
    "\n",
    "azdias_less_30['DECADE']=azdias_less_30.PRAEGENDE_JUGENDJAHRE\n",
    "azdias_less_30['MOVEMENT']=azdias_less_30.PRAEGENDE_JUGENDJAHRE\n",
    "\n",
    "azdias_less_30['DECADE'].replace(decade_dic, inplace=True)\n",
    "azdias_less_30['MOVEMENT'].replace(movement_dic, inplace=True)\n",
    "azdias_less_30.drop(\"PRAEGENDE_JUGENDJAHRE\",inplace=True)"
   ]
  },
  {
   "cell_type": "code",
   "execution_count": 45,
   "metadata": {},
   "outputs": [
    {
     "data": {
      "text/plain": [
       "6.0    254285\n",
       "4.0    175200\n",
       "5.0    151770\n",
       "3.0    114353\n",
       "2.0     74296\n",
       "1.0     28157\n",
       "Name: DECADE, dtype: int64"
      ]
     },
     "execution_count": 45,
     "metadata": {},
     "output_type": "execute_result"
    }
   ],
   "source": [
    "azdias_less_30.DECADE.value_counts()"
   ]
  },
  {
   "cell_type": "code",
   "execution_count": 46,
   "metadata": {},
   "outputs": [
    {
     "data": {
      "text/plain": [
       "1.0    622836\n",
       "0.0    175225\n",
       "Name: MOVEMENT, dtype: int64"
      ]
     },
     "execution_count": 46,
     "metadata": {},
     "output_type": "execute_result"
    }
   ],
   "source": [
    "azdias_less_30.MOVEMENT.value_counts()"
   ]
  },
  {
   "cell_type": "code",
   "execution_count": 50,
   "metadata": {},
   "outputs": [
    {
     "data": {
      "text/plain": [
       "(798061, 67)"
      ]
     },
     "execution_count": 50,
     "metadata": {},
     "output_type": "execute_result"
    }
   ],
   "source": [
    "azdias_less_30.shape"
   ]
  },
  {
   "cell_type": "code",
   "execution_count": 51,
   "metadata": {},
   "outputs": [
    {
     "data": {
      "text/plain": [
       "51    139892\n",
       "41     92336\n",
       "24     91157\n",
       "14     62884\n",
       "43     56672\n",
       "54     45391\n",
       "25     39626\n",
       "22     33154\n",
       "23     26750\n",
       "13     26335\n",
       "45     26132\n",
       "55     23955\n",
       "52     20542\n",
       "31     19023\n",
       "34     18524\n",
       "15     16974\n",
       "44     14820\n",
       "12     13249\n",
       "35     10356\n",
       "32     10354\n",
       "33      9935\n",
       "Name: CAMEO_INTL_2015, dtype: int64"
      ]
     },
     "execution_count": 51,
     "metadata": {},
     "output_type": "execute_result"
    }
   ],
   "source": [
    "azdias_less_30.CAMEO_INTL_2015.value_counts()"
   ]
  },
  {
   "cell_type": "code",
   "execution_count": 53,
   "metadata": {},
   "outputs": [],
   "source": [
    "# Investigate \"CAMEO_INTL_2015\" and engineer two new variables.\n",
    "\n",
    "wealth_dic = {'11':1, '12':1, '13':1, '14':1, '15':1, '21':2, '22':2, '23':2, '24':2, '25':2,\n",
    "               '31':3, '32':3, '33':3, '34':3, '35':3, '41':4, '42':4, '43':4, '44':4, '45':4,\n",
    "               '51':5, '52':5, '53':5, '54':5, '55':5}\n",
    "\n",
    "life_dic = {'11':1, '12':2, '13':3, '14':4, '15':5, '21':1, '22':2, '23':3, '24':4, '25':5,\n",
    "                   '31':1, '32':2, '33':3, '34':4, '35':5, '41':1, '42':2, '43':3, '44':4, '45':5,\n",
    "                   '51':1, '52':2, '53':3, '54':4, '55':5}\n",
    "\n",
    "azdias_less_30[\"WEALTH\"]=azdias_less_30.CAMEO_INTL_2015\n",
    "azdias_less_30[\"LIFE_STAGE\"]=azdias_less_30.CAMEO_INTL_2015\n",
    "\n",
    "azdias_less_30[\"WEALTH\"].replace(wealth_dic,inplace=True)\n",
    "azdias_less_30[\"LIFE_STAGE\"].replace(life_dic,inplace=True)\n",
    "\n",
    "azdias_less_30.drop(\"CAMEO_INTL_2015\",axis=1,inplace=True)"
   ]
  },
  {
   "cell_type": "code",
   "execution_count": 54,
   "metadata": {},
   "outputs": [
    {
     "data": {
      "text/plain": [
       "(798061, 68)"
      ]
     },
     "execution_count": 54,
     "metadata": {},
     "output_type": "execute_result"
    }
   ],
   "source": [
    "azdias_less_30.shape"
   ]
  },
  {
   "cell_type": "code",
   "execution_count": 55,
   "metadata": {},
   "outputs": [
    {
     "data": {
      "text/plain": [
       "5    229780\n",
       "2    190687\n",
       "4    189960\n",
       "1    119442\n",
       "3     68192\n",
       "Name: WEALTH, dtype: int64"
      ]
     },
     "execution_count": 55,
     "metadata": {},
     "output_type": "execute_result"
    }
   ],
   "source": [
    "azdias_less_30.WEALTH.value_counts()"
   ]
  },
  {
   "cell_type": "code",
   "execution_count": 56,
   "metadata": {},
   "outputs": [
    {
     "data": {
      "text/plain": [
       "1    251251\n",
       "4    232776\n",
       "3    119692\n",
       "5    117043\n",
       "2     77299\n",
       "Name: LIFE_STAGE, dtype: int64"
      ]
     },
     "execution_count": 56,
     "metadata": {},
     "output_type": "execute_result"
    }
   ],
   "source": [
    "azdias_less_30.LIFE_STAGE.value_counts()"
   ]
  },
  {
   "cell_type": "markdown",
   "metadata": {},
   "source": [
    "#### Discussion 1.2.2: Engineer Mixed-Type Features\n",
    "\n",
    "1. I droped the feature 'PRAEGENDE_JUGENDJAHRE' and replaced it with 2 new features:DECADE and MOVEMENT, while the third dimension west/east has been ignored.\n",
    "\n",
    "2. I droped the feature 'CAMEO_INTL_2015' and replaced it with 2 new new features: WEALTH and LIFE_STAGE.\n",
    "\n",
    "** The steps taken: \n",
    "1. created a dictionary for each mixed-feature.\n",
    "2. created 2 variables for each mixed-feature and copied values from the initial mixed-value feature.\n",
    "3. replaced the values in the variables with the values in the created dictionary.\n",
    "4. droped the mixed-features 'PRAEGENDE_JUGENDJAHRE' and 'CAMEO_INTL_2015'"
   ]
  },
  {
   "cell_type": "markdown",
   "metadata": {},
   "source": [
    "#### Step 1.2.3: Complete Feature Selection\n",
    "\n",
    "In order to finish this step up, you need to make sure that your data frame now only has the columns that you want to keep. To summarize, the dataframe should consist of the following:\n",
    "- All numeric, interval, and ordinal type columns from the original dataset.\n",
    "- Binary categorical features (all numerically-encoded).\n",
    "- Engineered features from other multi-level categorical features and mixed features.\n",
    "\n",
    "Make sure that for any new columns that you have engineered, that you've excluded the original columns from the final dataset. Otherwise, their values will interfere with the analysis later on the project. For example, you should not keep \"PRAEGENDE_JUGENDJAHRE\", since its values won't be useful for the algorithm: only the values derived from it in the engineered features you created should be retained. As a reminder, your data should only be from **the subset with few or no missing values**."
   ]
  },
  {
   "cell_type": "code",
   "execution_count": null,
   "metadata": {},
   "outputs": [],
   "source": [
    "# If there are other re-engineering tasks you need to perform, make sure you\n",
    "# take care of them here. (Dealing with missing data will come in step 2.1.)\n",
    "\n"
   ]
  },
  {
   "cell_type": "code",
   "execution_count": 57,
   "metadata": {},
   "outputs": [],
   "source": [
    "# Do whatever you need to in order to ensure that the dataframe only contains\n",
    "# the columns that should be passed to the algorithm functions.\n",
    "\n",
    "mixed_features=feat_info[feat_info.type==\"mixed\"]\n",
    "for i in mixed_features[\"attribute\"]:\n",
    "    if i in azdias_less_30.columns:\n",
    "        azdias_less_30.drop(i,axis=1,inplace=True)"
   ]
  },
  {
   "cell_type": "code",
   "execution_count": 58,
   "metadata": {},
   "outputs": [
    {
     "data": {
      "text/plain": [
       "(798061, 64)"
      ]
     },
     "execution_count": 58,
     "metadata": {},
     "output_type": "execute_result"
    }
   ],
   "source": [
    "azdias_less_30.shape"
   ]
  },
  {
   "cell_type": "code",
   "execution_count": 222,
   "metadata": {},
   "outputs": [
    {
     "name": "stdout",
     "output_type": "stream",
     "text": [
      "<class 'pandas.core.frame.DataFrame'>\n",
      "Int64Index: 798061 entries, 1 to 891220\n",
      "Data columns (total 64 columns):\n",
      " #   Column                 Non-Null Count   Dtype  \n",
      "---  ------                 --------------   -----  \n",
      " 0   ALTERSKATEGORIE_GROB   798061 non-null  float64\n",
      " 1   ANREDE_KZ              798061 non-null  int64  \n",
      " 2   FINANZ_MINIMALIST      798061 non-null  int64  \n",
      " 3   FINANZ_SPARER          798061 non-null  int64  \n",
      " 4   FINANZ_VORSORGER       798061 non-null  int64  \n",
      " 5   FINANZ_ANLEGER         798061 non-null  int64  \n",
      " 6   FINANZ_UNAUFFAELLIGER  798061 non-null  int64  \n",
      " 7   FINANZ_HAUSBAUER       798061 non-null  int64  \n",
      " 8   GREEN_AVANTGARDE       798061 non-null  int64  \n",
      " 9   HEALTH_TYP             798061 non-null  float64\n",
      " 10  RETOURTYP_BK_S         798061 non-null  float64\n",
      " 11  SEMIO_SOZ              798061 non-null  int64  \n",
      " 12  SEMIO_FAM              798061 non-null  int64  \n",
      " 13  SEMIO_REL              798061 non-null  int64  \n",
      " 14  SEMIO_MAT              798061 non-null  int64  \n",
      " 15  SEMIO_VERT             798061 non-null  int64  \n",
      " 16  SEMIO_LUST             798061 non-null  int64  \n",
      " 17  SEMIO_ERL              798061 non-null  int64  \n",
      " 18  SEMIO_KULT             798061 non-null  int64  \n",
      " 19  SEMIO_RAT              798061 non-null  int64  \n",
      " 20  SEMIO_KRIT             798061 non-null  int64  \n",
      " 21  SEMIO_DOM              798061 non-null  int64  \n",
      " 22  SEMIO_KAEM             798061 non-null  int64  \n",
      " 23  SEMIO_PFLICHT          798061 non-null  int64  \n",
      " 24  SEMIO_TRADV            798061 non-null  int64  \n",
      " 25  SOHO_KZ                798061 non-null  float64\n",
      " 26  VERS_TYP               798061 non-null  float64\n",
      " 27  ANZ_PERSONEN           798061 non-null  float64\n",
      " 28  ANZ_TITEL              798061 non-null  float64\n",
      " 29  HH_EINKOMMEN_SCORE     798061 non-null  float64\n",
      " 30  W_KEIT_KIND_HH         798061 non-null  float64\n",
      " 31  WOHNDAUER_2008         798061 non-null  float64\n",
      " 32  ANZ_HAUSHALTE_AKTIV    798061 non-null  float64\n",
      " 33  ANZ_HH_TITEL           798061 non-null  float64\n",
      " 34  KONSUMNAEHE            798061 non-null  float64\n",
      " 35  MIN_GEBAEUDEJAHR       798061 non-null  float64\n",
      " 36  OST_WEST_KZ            798061 non-null  int64  \n",
      " 37  KBA05_ANTG1            798061 non-null  float64\n",
      " 38  KBA05_ANTG2            798061 non-null  float64\n",
      " 39  KBA05_ANTG3            798061 non-null  float64\n",
      " 40  KBA05_ANTG4            798061 non-null  float64\n",
      " 41  KBA05_GBZ              798061 non-null  float64\n",
      " 42  BALLRAUM               798061 non-null  float64\n",
      " 43  EWDICHTE               798061 non-null  float64\n",
      " 44  INNENSTADT             798061 non-null  float64\n",
      " 45  GEBAEUDETYP_RASTER     798061 non-null  float64\n",
      " 46  KKK                    798061 non-null  float64\n",
      " 47  MOBI_REGIO             798061 non-null  float64\n",
      " 48  ONLINE_AFFINITAET      798061 non-null  float64\n",
      " 49  REGIOTYP               798061 non-null  float64\n",
      " 50  KBA13_ANZAHL_PKW       798061 non-null  float64\n",
      " 51  PLZ8_ANTG1             798061 non-null  float64\n",
      " 52  PLZ8_ANTG2             798061 non-null  float64\n",
      " 53  PLZ8_ANTG3             798061 non-null  float64\n",
      " 54  PLZ8_ANTG4             798061 non-null  float64\n",
      " 55  PLZ8_HHZ               798061 non-null  float64\n",
      " 56  PLZ8_GBZ               798061 non-null  float64\n",
      " 57  ARBEIT                 798061 non-null  float64\n",
      " 58  ORTSGR_KLS9            798061 non-null  float64\n",
      " 59  RELAT_AB               798061 non-null  float64\n",
      " 60  DECADE                 798061 non-null  float64\n",
      " 61  MOVEMENT               798061 non-null  float64\n",
      " 62  WEALTH                 798061 non-null  int64  \n",
      " 63  LIFE_STAGE             798061 non-null  int64  \n",
      "dtypes: float64(39), int64(25)\n",
      "memory usage: 415.8 MB\n"
     ]
    }
   ],
   "source": [
    "azdias_less_30.info()"
   ]
  },
  {
   "cell_type": "markdown",
   "metadata": {},
   "source": [
    "### Step 1.3: Create a Cleaning Function\n",
    "\n",
    "Even though you've finished cleaning up the general population demographics data, it's important to look ahead to the future and realize that you'll need to perform the same cleaning steps on the customer demographics data. In this substep, complete the function below to execute the main feature selection, encoding, and re-engineering steps you performed above. Then, when it comes to looking at the customer data in Step 3, you can just run this function on that DataFrame to get the trimmed dataset in a single step."
   ]
  },
  {
   "cell_type": "code",
   "execution_count": 227,
   "metadata": {},
   "outputs": [],
   "source": [
    "def missing_splited(missing_or_unknown):\n",
    "    new_list=list()\n",
    "    for values in missing_or_unknown:\n",
    "        new_list.append(values[1:-1].split(\",\"))\n",
    "    return new_list\n",
    "\n",
    "missing_values=missing_splited(feat_info[\"missing_or_unknown\"])\n",
    "\n",
    "def clean_data(df, feat_info):\n",
    "    \"\"\"\n",
    "    Perform feature trimming, re-encoding, and engineering for demographics\n",
    "    data\n",
    "    \n",
    "    INPUT: Demographics DataFrame\n",
    "    OUTPUT: Trimmed and cleaned demographics DataFrame\n",
    "    \"\"\"\n",
    "    \n",
    "    # Put in code here to execute all main cleaning steps:\n",
    "    # convert missing value codes into NaNs, ...\n",
    "    \n",
    "    missing_values=missing_splited(feat_info[\"missing_or_unknown\"])\n",
    "    \n",
    "    # Identify missing or unknown data values and convert them to NaNs.\n",
    "    for attribute,missing_values_list in zip(feat_info[\"attribute\"],missing_values):\n",
    "            if missing_values_list[0] != \"\":  \n",
    "                for missing_value in missing_values_list:\n",
    "                #check if the missing value is number (negative or positive numbers)\n",
    "                   if missing_value.isnumeric() or missing_value.lstrip('-').isnumeric():\n",
    "                        missing_value = int(missing_value)\n",
    "\n",
    "                df.loc[df[attribute] == missing_value, attribute] = np.nan \n",
    "              \n",
    "                \n",
    "                \n",
    "    \"\"\"\n",
    "    for i in range(len(feat_info)):\n",
    "        missing_or_unknown = feat_info.iloc[i]['missing_or_unknown']\n",
    "        missing_or_unknown = missing_or_unknown.strip('[')\n",
    "        missing_or_unknown = missing_or_unknown.strip(']')\n",
    "        missing_or_unknown = missing_or_unknown.split(sep=',')\n",
    "        missing_or_unknown = [int(value) if (value!='X' and value!='XX' and value!='') else value for value in missing_or_unknown]\n",
    "        if missing_or_unknown != ['']:\n",
    "            df_clean = df.replace({feat_info.iloc[i]['attribute']: missing_or_unknown}, np.nan)\n",
    "    \n",
    "    for col in df.columns:\n",
    "        df_clean = df_clean.replace({col: ['XX', 'X']}, np.nan)\n",
    "        \"\"\"\n",
    "\n",
    "    # remove selected columns and rows, ...\n",
    "    # drop columns with more than 20% missing values\n",
    "    columns_20 = ['AGER_TYP', 'GEBURTSJAHR', 'TITEL_KZ', 'ALTER_HH', 'KK_KUNDENTYP', 'KBA05_BAUMAX']\n",
    "    df_clean = df.drop(columns_20, axis='columns')\n",
    "    \n",
    "    missing_values_rows =df.isnull().sum(axis=1)\n",
    "    df_less_30 = df_clean[missing_values_rows<30]\n",
    "    df_above_30 = df_clean[missing_values_rows>=30]\n",
    "    df_less_30 = df_clean.fillna(azdias_less_30.mode().iloc[0])\n",
    "    \n",
    "    # select, re-encode, and engineer column values.\n",
    "    df_less_30[\"OST_WEST_KZ\"].replace({'W':0,'O':1},inplace=True) \n",
    "        \n",
    "    \n",
    "    feat_info=feat_info[feat_info.attribute.isin(df_less_30.columns)]\n",
    "    cat_variables=feat_info[feat_info.type=='categorical']\n",
    "    binary_cat=[]\n",
    "    multi_level_cat=[]\n",
    "    \n",
    "    for i in cat_variables.attribute:\n",
    "        if df_less_30[i].nunique()==2:\n",
    "            binary_cat.append(i)\n",
    "        else:\n",
    "            multi_level_cat.append(i)\n",
    "\n",
    "    \n",
    "    \n",
    "    for i in multi_level_cat:\n",
    "        df_less_30=df_less_30.drop(i, axis=1)\n",
    "    \n",
    "   \n",
    "    \n",
    "    decade_dic={1:1,2:1,3:2,4:2,5:3,6:3,7:3,8:4,9:4,10:5,11:5,12:5,13:5,14:6,15:6}\n",
    "    movement_dic={1:1,2:0,3:1,4:0,5:1,6:0,7:0,8:1,9:0,10:1,11:0,12:1,13:0,14:1,15:0}\n",
    "\n",
    "    df_less_30['DECADE']=df_less_30.PRAEGENDE_JUGENDJAHRE\n",
    "    df_less_30['MOVEMENT']=df_less_30.PRAEGENDE_JUGENDJAHRE\n",
    "\n",
    "    df_less_30['DECADE'].replace(decade_dic, inplace=True)\n",
    "    df_less_30['MOVEMENT'].replace(movement_dic, inplace=True)\n",
    "    #df_less_30.drop(\"PRAEGENDE_JUGENDJAHRE\",inplace=True)\n",
    "\n",
    "    wealth_dic = {'11':1, '12':1, '13':1, '14':1, '15':1, '21':2, '22':2, '23':2, '24':2, '25':2,\n",
    "               '31':3, '32':3, '33':3, '34':3, '35':3, '41':4, '42':4, '43':4, '44':4, '45':4,\n",
    "               '51':5, '52':5, '53':5, '54':5, '55':5}\n",
    "\n",
    "    life_dic = {'11':1, '12':2, '13':3, '14':4, '15':5, '21':1, '22':2, '23':3, '24':4, '25':5,\n",
    "                   '31':1, '32':2, '33':3, '34':4, '35':5, '41':1, '42':2, '43':3, '44':4, '45':5,\n",
    "                   '51':1, '52':2, '53':3, '54':4, '55':5}\n",
    "\n",
    "\n",
    "    df_less_30[\"WEALTH\"]=df_less_30.CAMEO_INTL_2015\n",
    "    df_less_30[\"LIFE_STAGE\"]=df_less_30.CAMEO_INTL_2015\n",
    "\n",
    "    df_less_30[\"WEALTH\"].replace(wealth_dic,inplace=True)\n",
    "    df_less_30[\"LIFE_STAGE\"].replace(life_dic,inplace=True)\n",
    "\n",
    "    #df_less_30.drop(\"CAMEO_INTL_2015\",axis=1,inplace=True)\n",
    "\n",
    "    mixed_features=feat_info[feat_info.type==\"mixed\"]\n",
    "    for i in mixed_features[\"attribute\"]:\n",
    "        if i in df_less_30.columns:\n",
    "            df_less_30.drop(i,axis=1,inplace=True)\n",
    "    \n",
    "    # Return the cleaned dataframe.\n",
    "    return df_less_30\n",
    "    "
   ]
  },
  {
   "cell_type": "markdown",
   "metadata": {},
   "source": [
    "## Step 2: Feature Transformation\n",
    "\n",
    "### Step 2.1: Apply Feature Scaling\n",
    "\n",
    "Before we apply dimensionality reduction techniques to the data, we need to perform feature scaling so that the principal component vectors are not influenced by the natural differences in scale for features. Starting from this part of the project, you'll want to keep an eye on the [API reference page for sklearn](http://scikit-learn.org/stable/modules/classes.html) to help you navigate to all of the classes and functions that you'll need. In this substep, you'll need to check the following:\n",
    "\n",
    "- sklearn requires that data not have missing values in order for its estimators to work properly. So, before applying the scaler to your data, make sure that you've cleaned the DataFrame of the remaining missing values. This can be as simple as just removing all data points with missing data, or applying an [Imputer](http://scikit-learn.org/stable/modules/generated/sklearn.preprocessing.Imputer.html) to replace all missing values. You might also try a more complicated procedure where you temporarily remove missing values in order to compute the scaling parameters before re-introducing those missing values and applying imputation. Think about how much missing data you have and what possible effects each approach might have on your analysis, and justify your decision in the discussion section below.\n",
    "- For the actual scaling function, a [StandardScaler](http://scikit-learn.org/stable/modules/generated/sklearn.preprocessing.StandardScaler.html) instance is suggested, scaling each feature to mean 0 and standard deviation 1.\n",
    "- For these classes, you can make use of the `.fit_transform()` method to both fit a procedure to the data as well as apply the transformation to the data at the same time. Don't forget to keep the fit sklearn objects handy, since you'll be applying them to the customer demographics data towards the end of the project."
   ]
  },
  {
   "cell_type": "code",
   "execution_count": 68,
   "metadata": {},
   "outputs": [
    {
     "data": {
      "text/plain": [
       "0"
      ]
     },
     "execution_count": 68,
     "metadata": {},
     "output_type": "execute_result"
    }
   ],
   "source": [
    "# If you've not yet cleaned the dataset of all NaN values, then investigate and\n",
    "# do that now.\n",
    "\n",
    "azdias_less_30.isnull().sum().sum()"
   ]
  },
  {
   "cell_type": "code",
   "execution_count": 69,
   "metadata": {},
   "outputs": [
    {
     "name": "stdout",
     "output_type": "stream",
     "text": [
      "The number of columns in the azdias dataset: 64\n",
      "ALTERSKATEGORIE_GROB\n",
      "ANREDE_KZ\n",
      "FINANZ_MINIMALIST\n",
      "FINANZ_SPARER\n",
      "FINANZ_VORSORGER\n",
      "FINANZ_ANLEGER\n",
      "FINANZ_UNAUFFAELLIGER\n",
      "FINANZ_HAUSBAUER\n",
      "GREEN_AVANTGARDE\n",
      "HEALTH_TYP\n",
      "RETOURTYP_BK_S\n",
      "SEMIO_SOZ\n",
      "SEMIO_FAM\n",
      "SEMIO_REL\n",
      "SEMIO_MAT\n",
      "SEMIO_VERT\n",
      "SEMIO_LUST\n",
      "SEMIO_ERL\n",
      "SEMIO_KULT\n",
      "SEMIO_RAT\n",
      "SEMIO_KRIT\n",
      "SEMIO_DOM\n",
      "SEMIO_KAEM\n",
      "SEMIO_PFLICHT\n",
      "SEMIO_TRADV\n",
      "SOHO_KZ\n",
      "VERS_TYP\n",
      "ANZ_PERSONEN\n",
      "ANZ_TITEL\n",
      "HH_EINKOMMEN_SCORE\n",
      "W_KEIT_KIND_HH\n",
      "WOHNDAUER_2008\n",
      "ANZ_HAUSHALTE_AKTIV\n",
      "ANZ_HH_TITEL\n",
      "KONSUMNAEHE\n",
      "MIN_GEBAEUDEJAHR\n",
      "OST_WEST_KZ\n",
      "KBA05_ANTG1\n",
      "KBA05_ANTG2\n",
      "KBA05_ANTG3\n",
      "KBA05_ANTG4\n",
      "KBA05_GBZ\n",
      "BALLRAUM\n",
      "EWDICHTE\n",
      "INNENSTADT\n",
      "GEBAEUDETYP_RASTER\n",
      "KKK\n",
      "MOBI_REGIO\n",
      "ONLINE_AFFINITAET\n",
      "REGIOTYP\n",
      "KBA13_ANZAHL_PKW\n",
      "PLZ8_ANTG1\n",
      "PLZ8_ANTG2\n",
      "PLZ8_ANTG3\n",
      "PLZ8_ANTG4\n",
      "PLZ8_HHZ\n",
      "PLZ8_GBZ\n",
      "ARBEIT\n",
      "ORTSGR_KLS9\n",
      "RELAT_AB\n",
      "DECADE\n",
      "MOVEMENT\n",
      "WEALTH\n",
      "LIFE_STAGE\n"
     ]
    }
   ],
   "source": [
    "print(\"The number of columns in the azdias dataset: {}\".format(len(azdias_less_30.columns)))\n",
    "for i in azdias_less_30.columns:\n",
    "    print(i)"
   ]
  },
  {
   "cell_type": "code",
   "execution_count": 72,
   "metadata": {},
   "outputs": [
    {
     "data": {
      "text/html": [
       "<div>\n",
       "<style scoped>\n",
       "    .dataframe tbody tr th:only-of-type {\n",
       "        vertical-align: middle;\n",
       "    }\n",
       "\n",
       "    .dataframe tbody tr th {\n",
       "        vertical-align: top;\n",
       "    }\n",
       "\n",
       "    .dataframe thead th {\n",
       "        text-align: right;\n",
       "    }\n",
       "</style>\n",
       "<table border=\"1\" class=\"dataframe\">\n",
       "  <thead>\n",
       "    <tr style=\"text-align: right;\">\n",
       "      <th></th>\n",
       "      <th>ALTERSKATEGORIE_GROB</th>\n",
       "      <th>ANREDE_KZ</th>\n",
       "      <th>FINANZ_MINIMALIST</th>\n",
       "      <th>FINANZ_SPARER</th>\n",
       "      <th>FINANZ_VORSORGER</th>\n",
       "      <th>FINANZ_ANLEGER</th>\n",
       "      <th>FINANZ_UNAUFFAELLIGER</th>\n",
       "      <th>FINANZ_HAUSBAUER</th>\n",
       "      <th>GREEN_AVANTGARDE</th>\n",
       "      <th>HEALTH_TYP</th>\n",
       "      <th>...</th>\n",
       "      <th>PLZ8_ANTG4</th>\n",
       "      <th>PLZ8_HHZ</th>\n",
       "      <th>PLZ8_GBZ</th>\n",
       "      <th>ARBEIT</th>\n",
       "      <th>ORTSGR_KLS9</th>\n",
       "      <th>RELAT_AB</th>\n",
       "      <th>DECADE</th>\n",
       "      <th>MOVEMENT</th>\n",
       "      <th>WEALTH</th>\n",
       "      <th>LIFE_STAGE</th>\n",
       "    </tr>\n",
       "  </thead>\n",
       "  <tbody>\n",
       "    <tr>\n",
       "      <th>0</th>\n",
       "      <td>-1.766646</td>\n",
       "      <td>0.957914</td>\n",
       "      <td>-1.494594</td>\n",
       "      <td>1.537924</td>\n",
       "      <td>-1.040692</td>\n",
       "      <td>1.465965</td>\n",
       "      <td>0.958645</td>\n",
       "      <td>1.339314</td>\n",
       "      <td>-0.530409</td>\n",
       "      <td>1.010164</td>\n",
       "      <td>...</td>\n",
       "      <td>0.442528</td>\n",
       "      <td>1.455847</td>\n",
       "      <td>0.574305</td>\n",
       "      <td>-0.171400</td>\n",
       "      <td>-0.127041</td>\n",
       "      <td>0.684882</td>\n",
       "      <td>1.098070</td>\n",
       "      <td>0.530409</td>\n",
       "      <td>1.175657</td>\n",
       "      <td>-1.248894</td>\n",
       "    </tr>\n",
       "    <tr>\n",
       "      <th>1</th>\n",
       "      <td>0.200522</td>\n",
       "      <td>0.957914</td>\n",
       "      <td>-1.494594</td>\n",
       "      <td>0.864563</td>\n",
       "      <td>-1.766980</td>\n",
       "      <td>-0.570998</td>\n",
       "      <td>0.244119</td>\n",
       "      <td>1.339314</td>\n",
       "      <td>1.885336</td>\n",
       "      <td>1.010164</td>\n",
       "      <td>...</td>\n",
       "      <td>-0.934798</td>\n",
       "      <td>0.419740</td>\n",
       "      <td>0.574305</td>\n",
       "      <td>-0.171400</td>\n",
       "      <td>-0.127041</td>\n",
       "      <td>-0.789027</td>\n",
       "      <td>1.098070</td>\n",
       "      <td>-1.885336</td>\n",
       "      <td>-0.869680</td>\n",
       "      <td>0.767095</td>\n",
       "    </tr>\n",
       "    <tr>\n",
       "      <th>2</th>\n",
       "      <td>1.184106</td>\n",
       "      <td>0.957914</td>\n",
       "      <td>0.683144</td>\n",
       "      <td>-0.482158</td>\n",
       "      <td>1.138172</td>\n",
       "      <td>-0.570998</td>\n",
       "      <td>-1.184933</td>\n",
       "      <td>-0.791205</td>\n",
       "      <td>-0.530409</td>\n",
       "      <td>-0.311816</td>\n",
       "      <td>...</td>\n",
       "      <td>-0.934798</td>\n",
       "      <td>-0.616366</td>\n",
       "      <td>0.574305</td>\n",
       "      <td>-1.173149</td>\n",
       "      <td>-0.997549</td>\n",
       "      <td>-0.052072</td>\n",
       "      <td>-0.267778</td>\n",
       "      <td>0.530409</td>\n",
       "      <td>-1.551459</td>\n",
       "      <td>-0.576897</td>\n",
       "    </tr>\n",
       "    <tr>\n",
       "      <th>3</th>\n",
       "      <td>0.200522</td>\n",
       "      <td>-1.043935</td>\n",
       "      <td>0.683144</td>\n",
       "      <td>0.191203</td>\n",
       "      <td>0.411884</td>\n",
       "      <td>-1.249985</td>\n",
       "      <td>0.244119</td>\n",
       "      <td>-0.791205</td>\n",
       "      <td>-0.530409</td>\n",
       "      <td>1.010164</td>\n",
       "      <td>...</td>\n",
       "      <td>0.442528</td>\n",
       "      <td>-0.616366</td>\n",
       "      <td>-0.337195</td>\n",
       "      <td>0.830348</td>\n",
       "      <td>0.308213</td>\n",
       "      <td>1.421837</td>\n",
       "      <td>-0.267778</td>\n",
       "      <td>0.530409</td>\n",
       "      <td>0.493878</td>\n",
       "      <td>0.095099</td>\n",
       "    </tr>\n",
       "    <tr>\n",
       "      <th>4</th>\n",
       "      <td>-1.766646</td>\n",
       "      <td>0.957914</td>\n",
       "      <td>-0.042768</td>\n",
       "      <td>-1.155518</td>\n",
       "      <td>1.138172</td>\n",
       "      <td>-0.570998</td>\n",
       "      <td>-0.470407</td>\n",
       "      <td>1.339314</td>\n",
       "      <td>-0.530409</td>\n",
       "      <td>1.010164</td>\n",
       "      <td>...</td>\n",
       "      <td>0.442528</td>\n",
       "      <td>1.455847</td>\n",
       "      <td>1.485805</td>\n",
       "      <td>-1.173149</td>\n",
       "      <td>-0.997549</td>\n",
       "      <td>-0.052072</td>\n",
       "      <td>-1.633627</td>\n",
       "      <td>0.530409</td>\n",
       "      <td>1.175657</td>\n",
       "      <td>0.767095</td>\n",
       "    </tr>\n",
       "  </tbody>\n",
       "</table>\n",
       "<p>5 rows × 64 columns</p>\n",
       "</div>"
      ],
      "text/plain": [
       "   ALTERSKATEGORIE_GROB  ANREDE_KZ  FINANZ_MINIMALIST  FINANZ_SPARER  \\\n",
       "0             -1.766646   0.957914          -1.494594       1.537924   \n",
       "1              0.200522   0.957914          -1.494594       0.864563   \n",
       "2              1.184106   0.957914           0.683144      -0.482158   \n",
       "3              0.200522  -1.043935           0.683144       0.191203   \n",
       "4             -1.766646   0.957914          -0.042768      -1.155518   \n",
       "\n",
       "   FINANZ_VORSORGER  FINANZ_ANLEGER  FINANZ_UNAUFFAELLIGER  FINANZ_HAUSBAUER  \\\n",
       "0         -1.040692        1.465965               0.958645          1.339314   \n",
       "1         -1.766980       -0.570998               0.244119          1.339314   \n",
       "2          1.138172       -0.570998              -1.184933         -0.791205   \n",
       "3          0.411884       -1.249985               0.244119         -0.791205   \n",
       "4          1.138172       -0.570998              -0.470407          1.339314   \n",
       "\n",
       "   GREEN_AVANTGARDE  HEALTH_TYP  ...  PLZ8_ANTG4  PLZ8_HHZ  PLZ8_GBZ  \\\n",
       "0         -0.530409    1.010164  ...    0.442528  1.455847  0.574305   \n",
       "1          1.885336    1.010164  ...   -0.934798  0.419740  0.574305   \n",
       "2         -0.530409   -0.311816  ...   -0.934798 -0.616366  0.574305   \n",
       "3         -0.530409    1.010164  ...    0.442528 -0.616366 -0.337195   \n",
       "4         -0.530409    1.010164  ...    0.442528  1.455847  1.485805   \n",
       "\n",
       "     ARBEIT  ORTSGR_KLS9  RELAT_AB    DECADE  MOVEMENT    WEALTH  LIFE_STAGE  \n",
       "0 -0.171400    -0.127041  0.684882  1.098070  0.530409  1.175657   -1.248894  \n",
       "1 -0.171400    -0.127041 -0.789027  1.098070 -1.885336 -0.869680    0.767095  \n",
       "2 -1.173149    -0.997549 -0.052072 -0.267778  0.530409 -1.551459   -0.576897  \n",
       "3  0.830348     0.308213  1.421837 -0.267778  0.530409  0.493878    0.095099  \n",
       "4 -1.173149    -0.997549 -0.052072 -1.633627  0.530409  1.175657    0.767095  \n",
       "\n",
       "[5 rows x 64 columns]"
      ]
     },
     "execution_count": 72,
     "metadata": {},
     "output_type": "execute_result"
    }
   ],
   "source": [
    "# Apply feature scaling to the general population demographics data.\n",
    "scaler =StandardScaler()\n",
    "features_scaled=scaler.fit_transform(azdias_less_30)\n",
    "features_scaled=pd.DataFrame(features_scaled,columns=azdias_less_30.columns.tolist())\n",
    "features_scaled.head()"
   ]
  },
  {
   "cell_type": "markdown",
   "metadata": {},
   "source": [
    "### Discussion 2.1: Apply Feature Scaling\n",
    "\n",
    "- Missing values were replaced with the mode in an earlier step. therefore there is 0 Null values in the dataset.\n",
    "- All the features were scaled by using the StandardScaler."
   ]
  },
  {
   "cell_type": "markdown",
   "metadata": {},
   "source": [
    "### Step 2.2: Perform Dimensionality Reduction\n",
    "\n",
    "On your scaled data, you are now ready to apply dimensionality reduction techniques.\n",
    "\n",
    "- Use sklearn's [PCA](http://scikit-learn.org/stable/modules/generated/sklearn.decomposition.PCA.html) class to apply principal component analysis on the data, thus finding the vectors of maximal variance in the data. To start, you should not set any parameters (so all components are computed) or set a number of components that is at least half the number of features (so there's enough features to see the general trend in variability).\n",
    "- Check out the ratio of variance explained by each principal component as well as the cumulative variance explained. Try plotting the cumulative or sequential values using matplotlib's [`plot()`](https://matplotlib.org/api/_as_gen/matplotlib.pyplot.plot.html) function. Based on what you find, select a value for the number of transformed features you'll retain for the clustering part of the project.\n",
    "- Once you've made a choice for the number of components to keep, make sure you re-fit a PCA instance to perform the decided-on transformation."
   ]
  },
  {
   "cell_type": "code",
   "execution_count": 73,
   "metadata": {},
   "outputs": [
    {
     "data": {
      "text/plain": [
       "PCA(copy=True, iterated_power='auto', n_components=None, random_state=None,\n",
       "    svd_solver='auto', tol=0.0, whiten=False)"
      ]
     },
     "execution_count": 73,
     "metadata": {},
     "output_type": "execute_result"
    }
   ],
   "source": [
    "# Apply PCA to the data.\n",
    "pca = PCA()\n",
    "pca.fit(features_scaled)\n"
   ]
  },
  {
   "cell_type": "code",
   "execution_count": 76,
   "metadata": {},
   "outputs": [
    {
     "data": {
      "image/png": "[encoded data removed]",
      "text/plain": [
       "<Figure size 432x288 with 1 Axes>"
      ]
     },
     "metadata": {
      "needs_background": "light"
     },
     "output_type": "display_data"
    }
   ],
   "source": [
    "# Investigate the variance accounted for by each principal component.\n",
    "plt.bar(range(len(pca.explained_variance_ratio_)), pca.explained_variance_ratio_)\n",
    "plt.title(\"Variance explained for each principal component\")\n",
    "plt.xlabel(\"Principal component\")\n",
    "plt.ylabel(\"Ratio of variance explained\")\n",
    "plt.show()"
   ]
  },
  {
   "cell_type": "code",
   "execution_count": 78,
   "metadata": {},
   "outputs": [
    {
     "data": {
      "image/png": "[encoded data removed]",
      "text/plain": [
       "<Figure size 432x288 with 1 Axes>"
      ]
     },
     "metadata": {
      "needs_background": "light"
     },
     "output_type": "display_data"
    }
   ],
   "source": [
    "# Investigate the Cumulative values\n",
    "\n",
    "plt.plot(range(len(pca.explained_variance_ratio_)),np.cumsum(pca.explained_variance_ratio_), '-')\n",
    "plt.title(\"Cumulative explained variance for each principal component\")\n",
    "plt.xlabel(\"Components\")\n",
    "plt.ylabel(\"Cumulative variance explained\")\n",
    "plt.show()"
   ]
  },
  {
   "cell_type": "code",
   "execution_count": 79,
   "metadata": {},
   "outputs": [],
   "source": [
    "# Re-apply PCA to the data while selecting for number of components to retain.\n",
    "\n",
    "pca_30 = PCA(n_components=30, random_state=10)\n",
    "azdias_pca = pca_30.fit_transform(features_scaled)\n"
   ]
  },
  {
   "cell_type": "markdown",
   "metadata": {},
   "source": [
    "### Discussion 2.2: Perform Dimensionality Reduction\n",
    "\n",
    "- I used 30 components as it expains above 80% of the variance"
   ]
  },
  {
   "cell_type": "markdown",
   "metadata": {},
   "source": [
    "### Step 2.3: Interpret Principal Components\n",
    "\n",
    "Now that we have our transformed principal components, it's a nice idea to check out the weight of each variable on the first few components to see if they can be interpreted in some fashion.\n",
    "\n",
    "As a reminder, each principal component is a unit vector that points in the direction of highest variance (after accounting for the variance captured by earlier principal components). The further a weight is from zero, the more the principal component is in the direction of the corresponding feature. If two features have large weights of the same sign (both positive or both negative), then increases in one tend expect to be associated with increases in the other. To contrast, features with different signs can be expected to show a negative correlation: increases in one variable should result in a decrease in the other.\n",
    "\n",
    "- To investigate the features, you should map each weight to their corresponding feature name, then sort the features according to weight. The most interesting features for each principal component, then, will be those at the beginning and end of the sorted list. Use the data dictionary document to help you understand these most prominent features, their relationships, and what a positive or negative value on the principal component might indicate.\n",
    "- You should investigate and interpret feature associations from the first three principal components in this substep. To help facilitate this, you should write a function that you can call at any time to print the sorted list of feature weights, for the *i*-th principal component. This might come in handy in the next step of the project, when you interpret the tendencies of the discovered clusters."
   ]
  },
  {
   "cell_type": "code",
   "execution_count": 84,
   "metadata": {},
   "outputs": [],
   "source": [
    "# HINT: Try defining a function here or in a new cell that you can reuse in the\n",
    "# other cells.\n",
    "\n",
    "def pca_weights(pca, i):\n",
    "    df = pd.DataFrame(pca.components_, columns=list(features_scaled.columns))\n",
    "    weights = df.iloc[i].sort_values(ascending=False)\n",
    "    return weights\n"
   ]
  },
  {
   "cell_type": "code",
   "execution_count": 85,
   "metadata": {},
   "outputs": [
    {
     "name": "stdout",
     "output_type": "stream",
     "text": [
      "PLZ8_ANTG3            0.225345\n",
      "PLZ8_ANTG4            0.216873\n",
      "WEALTH                0.204628\n",
      "HH_EINKOMMEN_SCORE    0.202187\n",
      "ORTSGR_KLS9           0.196765\n",
      "                        ...   \n",
      "KBA05_ANTG1          -0.214438\n",
      "KBA05_GBZ            -0.216061\n",
      "FINANZ_MINIMALIST    -0.223092\n",
      "MOBI_REGIO           -0.224811\n",
      "PLZ8_ANTG1           -0.225665\n",
      "Name: 0, Length: 64, dtype: float64\n"
     ]
    }
   ],
   "source": [
    "# Map weights for the first principal component to corresponding feature names\n",
    "# and then print the linked values, sorted by weight.\n",
    "first = pca_weights(pca_30,0)\n",
    "print(first)"
   ]
  },
  {
   "cell_type": "code",
   "execution_count": 86,
   "metadata": {},
   "outputs": [
    {
     "name": "stdout",
     "output_type": "stream",
     "text": [
      "ALTERSKATEGORIE_GROB     0.256265\n",
      "SEMIO_ERL                0.229915\n",
      "FINANZ_VORSORGER         0.229239\n",
      "SEMIO_LUST               0.180110\n",
      "RETOURTYP_BK_S           0.161878\n",
      "                           ...   \n",
      "FINANZ_UNAUFFAELLIGER   -0.225492\n",
      "SEMIO_TRADV             -0.228273\n",
      "FINANZ_SPARER           -0.231660\n",
      "DECADE                  -0.238553\n",
      "SEMIO_REL               -0.253635\n",
      "Name: 1, Length: 64, dtype: float64\n"
     ]
    }
   ],
   "source": [
    "# Map weights for the second principal component to corresponding feature names\n",
    "# and then print the linked values, sorted by weight.\n",
    "second = pca_weights(pca_30,1)\n",
    "print(second)\n"
   ]
  },
  {
   "cell_type": "code",
   "execution_count": 87,
   "metadata": {},
   "outputs": [
    {
     "name": "stdout",
     "output_type": "stream",
     "text": [
      "SEMIO_VERT           0.344664\n",
      "SEMIO_SOZ            0.261932\n",
      "SEMIO_FAM            0.248836\n",
      "SEMIO_KULT           0.233936\n",
      "FINANZ_MINIMALIST    0.154493\n",
      "                       ...   \n",
      "SEMIO_RAT           -0.217717\n",
      "SEMIO_KRIT          -0.275200\n",
      "SEMIO_DOM           -0.313070\n",
      "SEMIO_KAEM          -0.335050\n",
      "ANREDE_KZ           -0.367353\n",
      "Name: 2, Length: 64, dtype: float64\n"
     ]
    }
   ],
   "source": [
    "# Map weights for the third principal component to corresponding feature names\n",
    "# and then print the linked values, sorted by weight.\n",
    "\n",
    "third = pca_weights(pca_30,2)\n",
    "print(third)"
   ]
  },
  {
   "cell_type": "markdown",
   "metadata": {},
   "source": [
    "### Discussion 2.3: Interpret Principal Components\n",
    "\n",
    "**From the first principal component:**<br>\n",
    "**The features with highest positive correlations with the first component:**\n",
    "1. PLZ8_ANTG3        (Number of 6-10 family houses in the PLZ8 region)           \n",
    "2. PLZ8_ANTG4        (Number of 10+ family houses in the PLZ8 region)           \n",
    "3. WEALTH\n",
    "<br>**The features with highest negative correlations with the first component:**       \n",
    "1. PLZ8_ANTG1        (Number of 1-2 family houses in the PLZ8 region)\n",
    "2. MOBI_REGIO        (Movement patterns)\n",
    "3. FINANZ_MINIMALIST (Financial typology, low financial interest)\n",
    "<br><br>**From the second principal component:**\n",
    "<br>**The features with highest positive correlations with the second component:**\n",
    "1. ALTERSKATEGORIE_GROB (Estimated age based on given name analysis)   \n",
    "2. SEMIO_ERL         (Personality typology, event-oriented)          \n",
    "3. FINANZ_VORSORGER  (Financial typology, be prepared)\n",
    "<br>**The features with highest negative correlations with the second component:**\n",
    "1. SEMIO_REL         (Personality typology, religious)\n",
    "2. DECADE\n",
    "3. FINANZ_SPARER     (Financial typology, money-saver)\n",
    "<br><br>**From the third principal component:**\n",
    "<br>**The features with highest positive correlations with the third component:**\n",
    "1. SEMIO_VERT        (Personality typology, dreamful)   \n",
    "2. SEMIO_SOZ         (Personality typology, socially-minded)\n",
    "3. SEMIO_FAM         (Personality typology, family-minded)\n",
    "<br>**The features with highest negative correlations with the third component:**\n",
    "1. ANREDE_KZ         (Gender)\n",
    "2. SEMIO_KAEM        (Personality typology, combative attitude)\n",
    "3. SEMIO_DOM         (Personality typology, dominant-minded)"
   ]
  },
  {
   "cell_type": "markdown",
   "metadata": {},
   "source": [
    "## Step 3: Clustering\n",
    "\n",
    "### Step 3.1: Apply Clustering to General Population\n",
    "\n",
    "You've assessed and cleaned the demographics data, then scaled and transformed them. Now, it's time to see how the data clusters in the principal components space. In this substep, you will apply k-means clustering to the dataset and use the average within-cluster distances from each point to their assigned cluster's centroid to decide on a number of clusters to keep.\n",
    "\n",
    "- Use sklearn's [KMeans](http://scikit-learn.org/stable/modules/generated/sklearn.cluster.KMeans.html#sklearn.cluster.KMeans) class to perform k-means clustering on the PCA-transformed data.\n",
    "- Then, compute the average difference from each point to its assigned cluster's center. **Hint**: The KMeans object's `.score()` method might be useful here, but note that in sklearn, scores tend to be defined so that larger is better. Try applying it to a small, toy dataset, or use an internet search to help your understanding.\n",
    "- Perform the above two steps for a number of different cluster counts. You can then see how the average distance decreases with an increasing number of clusters. However, each additional cluster provides a smaller net benefit. Use this fact to select a final number of clusters in which to group the data. **Warning**: because of the large size of the dataset, it can take a long time for the algorithm to resolve. The more clusters to fit, the longer the algorithm will take. You should test for cluster counts through at least 10 clusters to get the full picture, but you shouldn't need to test for a number of clusters above about 30.\n",
    "- Once you've selected a final number of clusters to use, re-fit a KMeans instance to perform the clustering operation. Make sure that you also obtain the cluster assignments for the general demographics data, since you'll be using them in the final Step 3.3."
   ]
  },
  {
   "cell_type": "code",
   "execution_count": 88,
   "metadata": {},
   "outputs": [],
   "source": [
    "# Over a number of different cluster counts...\n",
    "    # run k-means clustering on the data and...\n",
    "    # compute the average within-cluster distances.\n",
    "scores = []\n",
    "clusters_num = list(range(1,20))\n",
    "for i in clusters_num:\n",
    "    kmeans = KMeans(n_clusters=i)\n",
    "    model = kmeans.fit(azdias_pca)\n",
    "    # to compute the average\n",
    "    score = np.abs(model.score(azdias_pca))\n",
    "    scores.append(score) "
   ]
  },
  {
   "cell_type": "code",
   "execution_count": 91,
   "metadata": {},
   "outputs": [
    {
     "data": {
      "image/png": "[encoded data removed]",
      "text/plain": [
       "<Figure size 432x288 with 1 Axes>"
      ]
     },
     "metadata": {
      "needs_background": "light"
     },
     "output_type": "display_data"
    }
   ],
   "source": [
    "# Investigate the change in within-cluster distance across number of clusters.\n",
    "# HINT: Use matplotlib's plot function to visualize this relationship.\n",
    "\n",
    "plt.plot(clusters_num,scores,marker='o',linestyle='-')\n",
    "plt.xlabel('number of clusters (K)')\n",
    "plt.ylabel('SSE')\n",
    "plt.title('Relationship between K and SSE')\n",
    "plt.show()"
   ]
  },
  {
   "cell_type": "code",
   "execution_count": 92,
   "metadata": {},
   "outputs": [],
   "source": [
    "# Re-fit the k-means model with the selected number of clusters and obtain\n",
    "# cluster predictions for the general population demographics data.\n",
    "kmeans = KMeans(n_clusters = 12)\n",
    "model_12 = kmeans.fit(azdias_pca)\n",
    "prediction = model_12.predict(azdias_pca)\n"
   ]
  },
  {
   "cell_type": "markdown",
   "metadata": {},
   "source": [
    "### Discussion 3.1: Apply Clustering to General Population\n",
    "\n",
    "From the plot above, i choose k=12, since after that the score decreases when the number of clusters increases "
   ]
  },
  {
   "cell_type": "markdown",
   "metadata": {},
   "source": [
    "### Step 3.2: Apply All Steps to the Customer Data\n",
    "\n",
    "Now that you have clusters and cluster centers for the general population, it's time to see how the customer data maps on to those clusters. Take care to not confuse this for re-fitting all of the models to the customer data. Instead, you're going to use the fits from the general population to clean, transform, and cluster the customer data. In the last step of the project, you will interpret how the general population fits apply to the customer data.\n",
    "\n",
    "- Don't forget when loading in the customers data, that it is semicolon (`;`) delimited.\n",
    "- Apply the same feature wrangling, selection, and engineering steps to the customer demographics using the `clean_data()` function you created earlier. (You can assume that the customer demographics data has similar meaning behind missing data patterns as the general demographics data.)\n",
    "- Use the sklearn objects from the general demographics data, and apply their transformations to the customers data. That is, you should not be using a `.fit()` or `.fit_transform()` method to re-fit the old objects, nor should you be creating new sklearn objects! Carry the data through the feature scaling, PCA, and clustering steps, obtaining cluster assignments for all of the data in the customer demographics data."
   ]
  },
  {
   "cell_type": "code",
   "execution_count": 228,
   "metadata": {},
   "outputs": [],
   "source": [
    "# Load in the customer demographics data.\n",
    "customers = pd.read_csv('Udacity_CUSTOMERS_Subset.csv',delimiter=';')"
   ]
  },
  {
   "cell_type": "code",
   "execution_count": 229,
   "metadata": {},
   "outputs": [
    {
     "data": {
      "text/html": [
       "<div>\n",
       "<style scoped>\n",
       "    .dataframe tbody tr th:only-of-type {\n",
       "        vertical-align: middle;\n",
       "    }\n",
       "\n",
       "    .dataframe tbody tr th {\n",
       "        vertical-align: top;\n",
       "    }\n",
       "\n",
       "    .dataframe thead th {\n",
       "        text-align: right;\n",
       "    }\n",
       "</style>\n",
       "<table border=\"1\" class=\"dataframe\">\n",
       "  <thead>\n",
       "    <tr style=\"text-align: right;\">\n",
       "      <th></th>\n",
       "      <th>AGER_TYP</th>\n",
       "      <th>ALTERSKATEGORIE_GROB</th>\n",
       "      <th>ANREDE_KZ</th>\n",
       "      <th>CJT_GESAMTTYP</th>\n",
       "      <th>FINANZ_MINIMALIST</th>\n",
       "      <th>FINANZ_SPARER</th>\n",
       "      <th>FINANZ_VORSORGER</th>\n",
       "      <th>FINANZ_ANLEGER</th>\n",
       "      <th>FINANZ_UNAUFFAELLIGER</th>\n",
       "      <th>FINANZ_HAUSBAUER</th>\n",
       "      <th>...</th>\n",
       "      <th>PLZ8_ANTG1</th>\n",
       "      <th>PLZ8_ANTG2</th>\n",
       "      <th>PLZ8_ANTG3</th>\n",
       "      <th>PLZ8_ANTG4</th>\n",
       "      <th>PLZ8_BAUMAX</th>\n",
       "      <th>PLZ8_HHZ</th>\n",
       "      <th>PLZ8_GBZ</th>\n",
       "      <th>ARBEIT</th>\n",
       "      <th>ORTSGR_KLS9</th>\n",
       "      <th>RELAT_AB</th>\n",
       "    </tr>\n",
       "  </thead>\n",
       "  <tbody>\n",
       "    <tr>\n",
       "      <th>0</th>\n",
       "      <td>2</td>\n",
       "      <td>4</td>\n",
       "      <td>1</td>\n",
       "      <td>5.0</td>\n",
       "      <td>5</td>\n",
       "      <td>1</td>\n",
       "      <td>5</td>\n",
       "      <td>1</td>\n",
       "      <td>2</td>\n",
       "      <td>2</td>\n",
       "      <td>...</td>\n",
       "      <td>3.0</td>\n",
       "      <td>3.0</td>\n",
       "      <td>1.0</td>\n",
       "      <td>0.0</td>\n",
       "      <td>1.0</td>\n",
       "      <td>5.0</td>\n",
       "      <td>5.0</td>\n",
       "      <td>1.0</td>\n",
       "      <td>2.0</td>\n",
       "      <td>1.0</td>\n",
       "    </tr>\n",
       "    <tr>\n",
       "      <th>1</th>\n",
       "      <td>-1</td>\n",
       "      <td>4</td>\n",
       "      <td>1</td>\n",
       "      <td>NaN</td>\n",
       "      <td>5</td>\n",
       "      <td>1</td>\n",
       "      <td>5</td>\n",
       "      <td>1</td>\n",
       "      <td>3</td>\n",
       "      <td>2</td>\n",
       "      <td>...</td>\n",
       "      <td>NaN</td>\n",
       "      <td>NaN</td>\n",
       "      <td>NaN</td>\n",
       "      <td>NaN</td>\n",
       "      <td>NaN</td>\n",
       "      <td>NaN</td>\n",
       "      <td>NaN</td>\n",
       "      <td>NaN</td>\n",
       "      <td>NaN</td>\n",
       "      <td>NaN</td>\n",
       "    </tr>\n",
       "    <tr>\n",
       "      <th>2</th>\n",
       "      <td>-1</td>\n",
       "      <td>4</td>\n",
       "      <td>2</td>\n",
       "      <td>2.0</td>\n",
       "      <td>5</td>\n",
       "      <td>1</td>\n",
       "      <td>5</td>\n",
       "      <td>1</td>\n",
       "      <td>4</td>\n",
       "      <td>4</td>\n",
       "      <td>...</td>\n",
       "      <td>2.0</td>\n",
       "      <td>3.0</td>\n",
       "      <td>3.0</td>\n",
       "      <td>1.0</td>\n",
       "      <td>3.0</td>\n",
       "      <td>3.0</td>\n",
       "      <td>2.0</td>\n",
       "      <td>3.0</td>\n",
       "      <td>5.0</td>\n",
       "      <td>3.0</td>\n",
       "    </tr>\n",
       "    <tr>\n",
       "      <th>3</th>\n",
       "      <td>1</td>\n",
       "      <td>4</td>\n",
       "      <td>1</td>\n",
       "      <td>2.0</td>\n",
       "      <td>5</td>\n",
       "      <td>1</td>\n",
       "      <td>5</td>\n",
       "      <td>2</td>\n",
       "      <td>1</td>\n",
       "      <td>2</td>\n",
       "      <td>...</td>\n",
       "      <td>3.0</td>\n",
       "      <td>2.0</td>\n",
       "      <td>1.0</td>\n",
       "      <td>0.0</td>\n",
       "      <td>1.0</td>\n",
       "      <td>3.0</td>\n",
       "      <td>4.0</td>\n",
       "      <td>1.0</td>\n",
       "      <td>3.0</td>\n",
       "      <td>1.0</td>\n",
       "    </tr>\n",
       "    <tr>\n",
       "      <th>4</th>\n",
       "      <td>-1</td>\n",
       "      <td>3</td>\n",
       "      <td>1</td>\n",
       "      <td>6.0</td>\n",
       "      <td>3</td>\n",
       "      <td>1</td>\n",
       "      <td>4</td>\n",
       "      <td>4</td>\n",
       "      <td>5</td>\n",
       "      <td>2</td>\n",
       "      <td>...</td>\n",
       "      <td>2.0</td>\n",
       "      <td>4.0</td>\n",
       "      <td>2.0</td>\n",
       "      <td>1.0</td>\n",
       "      <td>2.0</td>\n",
       "      <td>3.0</td>\n",
       "      <td>3.0</td>\n",
       "      <td>3.0</td>\n",
       "      <td>5.0</td>\n",
       "      <td>1.0</td>\n",
       "    </tr>\n",
       "  </tbody>\n",
       "</table>\n",
       "<p>5 rows × 85 columns</p>\n",
       "</div>"
      ],
      "text/plain": [
       "   AGER_TYP  ALTERSKATEGORIE_GROB  ANREDE_KZ  CJT_GESAMTTYP  \\\n",
       "0         2                     4          1            5.0   \n",
       "1        -1                     4          1            NaN   \n",
       "2        -1                     4          2            2.0   \n",
       "3         1                     4          1            2.0   \n",
       "4        -1                     3          1            6.0   \n",
       "\n",
       "   FINANZ_MINIMALIST  FINANZ_SPARER  FINANZ_VORSORGER  FINANZ_ANLEGER  \\\n",
       "0                  5              1                 5               1   \n",
       "1                  5              1                 5               1   \n",
       "2                  5              1                 5               1   \n",
       "3                  5              1                 5               2   \n",
       "4                  3              1                 4               4   \n",
       "\n",
       "   FINANZ_UNAUFFAELLIGER  FINANZ_HAUSBAUER  ...  PLZ8_ANTG1  PLZ8_ANTG2  \\\n",
       "0                      2                 2  ...         3.0         3.0   \n",
       "1                      3                 2  ...         NaN         NaN   \n",
       "2                      4                 4  ...         2.0         3.0   \n",
       "3                      1                 2  ...         3.0         2.0   \n",
       "4                      5                 2  ...         2.0         4.0   \n",
       "\n",
       "   PLZ8_ANTG3  PLZ8_ANTG4  PLZ8_BAUMAX  PLZ8_HHZ  PLZ8_GBZ  ARBEIT  \\\n",
       "0         1.0         0.0          1.0       5.0       5.0     1.0   \n",
       "1         NaN         NaN          NaN       NaN       NaN     NaN   \n",
       "2         3.0         1.0          3.0       3.0       2.0     3.0   \n",
       "3         1.0         0.0          1.0       3.0       4.0     1.0   \n",
       "4         2.0         1.0          2.0       3.0       3.0     3.0   \n",
       "\n",
       "   ORTSGR_KLS9  RELAT_AB  \n",
       "0          2.0       1.0  \n",
       "1          NaN       NaN  \n",
       "2          5.0       3.0  \n",
       "3          3.0       1.0  \n",
       "4          5.0       1.0  \n",
       "\n",
       "[5 rows x 85 columns]"
      ]
     },
     "execution_count": 229,
     "metadata": {},
     "output_type": "execute_result"
    }
   ],
   "source": [
    "customers.head()"
   ]
  },
  {
   "cell_type": "code",
   "execution_count": 230,
   "metadata": {},
   "outputs": [],
   "source": [
    "# Apply preprocessing, feature transformation, and clustering from the general\n",
    "# demographics onto the customer data, obtaining cluster predictions for the\n",
    "# customer demographics data.\n",
    "\n",
    "customers_clean= clean_data(customers,feat_info)"
   ]
  },
  {
   "cell_type": "code",
   "execution_count": 231,
   "metadata": {},
   "outputs": [
    {
     "data": {
      "text/plain": [
       "(191652, 64)"
      ]
     },
     "execution_count": 231,
     "metadata": {},
     "output_type": "execute_result"
    }
   ],
   "source": [
    "customers_clean.shape"
   ]
  },
  {
   "cell_type": "code",
   "execution_count": 232,
   "metadata": {},
   "outputs": [
    {
     "data": {
      "text/plain": [
       "198082"
      ]
     },
     "execution_count": 232,
     "metadata": {},
     "output_type": "execute_result"
    }
   ],
   "source": [
    "customers_clean.isnull().sum().sum()"
   ]
  },
  {
   "cell_type": "code",
   "execution_count": 233,
   "metadata": {},
   "outputs": [],
   "source": [
    "# Replace NaN\n",
    "\n",
    "customers_clean = customers_clean.fillna(customers_clean.mode().iloc[0])"
   ]
  },
  {
   "cell_type": "code",
   "execution_count": 234,
   "metadata": {},
   "outputs": [
    {
     "data": {
      "text/plain": [
       "0"
      ]
     },
     "execution_count": 234,
     "metadata": {},
     "output_type": "execute_result"
    }
   ],
   "source": [
    "customers_clean.isnull().sum().sum()"
   ]
  },
  {
   "cell_type": "code",
   "execution_count": 235,
   "metadata": {},
   "outputs": [
    {
     "name": "stdout",
     "output_type": "stream",
     "text": [
      "<class 'pandas.core.frame.DataFrame'>\n",
      "RangeIndex: 191652 entries, 0 to 191651\n",
      "Data columns (total 64 columns):\n",
      " #   Column                 Non-Null Count   Dtype  \n",
      "---  ------                 --------------   -----  \n",
      " 0   ALTERSKATEGORIE_GROB   191652 non-null  float64\n",
      " 1   ANREDE_KZ              191652 non-null  float64\n",
      " 2   FINANZ_MINIMALIST      191652 non-null  float64\n",
      " 3   FINANZ_SPARER          191652 non-null  float64\n",
      " 4   FINANZ_VORSORGER       191652 non-null  float64\n",
      " 5   FINANZ_ANLEGER         191652 non-null  float64\n",
      " 6   FINANZ_UNAUFFAELLIGER  191652 non-null  float64\n",
      " 7   FINANZ_HAUSBAUER       191652 non-null  float64\n",
      " 8   GREEN_AVANTGARDE       191652 non-null  int64  \n",
      " 9   HEALTH_TYP             191652 non-null  float64\n",
      " 10  RETOURTYP_BK_S         191652 non-null  float64\n",
      " 11  SEMIO_SOZ              191652 non-null  float64\n",
      " 12  SEMIO_FAM              191652 non-null  float64\n",
      " 13  SEMIO_REL              191652 non-null  float64\n",
      " 14  SEMIO_MAT              191652 non-null  float64\n",
      " 15  SEMIO_VERT             191652 non-null  float64\n",
      " 16  SEMIO_LUST             191652 non-null  float64\n",
      " 17  SEMIO_ERL              191652 non-null  float64\n",
      " 18  SEMIO_KULT             191652 non-null  float64\n",
      " 19  SEMIO_RAT              191652 non-null  float64\n",
      " 20  SEMIO_KRIT             191652 non-null  float64\n",
      " 21  SEMIO_DOM              191652 non-null  float64\n",
      " 22  SEMIO_KAEM             191652 non-null  float64\n",
      " 23  SEMIO_PFLICHT          191652 non-null  float64\n",
      " 24  SEMIO_TRADV            191652 non-null  float64\n",
      " 25  SOHO_KZ                191652 non-null  float64\n",
      " 26  VERS_TYP               191652 non-null  float64\n",
      " 27  ANZ_PERSONEN           191652 non-null  float64\n",
      " 28  ANZ_TITEL              191652 non-null  float64\n",
      " 29  HH_EINKOMMEN_SCORE     191652 non-null  float64\n",
      " 30  W_KEIT_KIND_HH         191652 non-null  float64\n",
      " 31  WOHNDAUER_2008         191652 non-null  float64\n",
      " 32  ANZ_HAUSHALTE_AKTIV    191652 non-null  float64\n",
      " 33  ANZ_HH_TITEL           191652 non-null  float64\n",
      " 34  KONSUMNAEHE            191652 non-null  float64\n",
      " 35  MIN_GEBAEUDEJAHR       191652 non-null  float64\n",
      " 36  OST_WEST_KZ            191652 non-null  float64\n",
      " 37  KBA05_ANTG1            191652 non-null  float64\n",
      " 38  KBA05_ANTG2            191652 non-null  float64\n",
      " 39  KBA05_ANTG3            191652 non-null  float64\n",
      " 40  KBA05_ANTG4            191652 non-null  float64\n",
      " 41  KBA05_GBZ              191652 non-null  float64\n",
      " 42  BALLRAUM               191652 non-null  float64\n",
      " 43  EWDICHTE               191652 non-null  float64\n",
      " 44  INNENSTADT             191652 non-null  float64\n",
      " 45  GEBAEUDETYP_RASTER     191652 non-null  float64\n",
      " 46  KKK                    191652 non-null  float64\n",
      " 47  MOBI_REGIO             191652 non-null  float64\n",
      " 48  ONLINE_AFFINITAET      191652 non-null  float64\n",
      " 49  REGIOTYP               191652 non-null  float64\n",
      " 50  KBA13_ANZAHL_PKW       191652 non-null  float64\n",
      " 51  PLZ8_ANTG1             191652 non-null  float64\n",
      " 52  PLZ8_ANTG2             191652 non-null  float64\n",
      " 53  PLZ8_ANTG3             191652 non-null  float64\n",
      " 54  PLZ8_ANTG4             191652 non-null  float64\n",
      " 55  PLZ8_HHZ               191652 non-null  float64\n",
      " 56  PLZ8_GBZ               191652 non-null  float64\n",
      " 57  ARBEIT                 191652 non-null  float64\n",
      " 58  ORTSGR_KLS9            191652 non-null  float64\n",
      " 59  RELAT_AB               191652 non-null  float64\n",
      " 60  DECADE                 191652 non-null  float64\n",
      " 61  MOVEMENT               191652 non-null  float64\n",
      " 62  WEALTH                 191652 non-null  float64\n",
      " 63  LIFE_STAGE             191652 non-null  float64\n",
      "dtypes: float64(63), int64(1)\n",
      "memory usage: 93.6 MB\n"
     ]
    }
   ],
   "source": [
    "customers_clean.info()"
   ]
  },
  {
   "cell_type": "code",
   "execution_count": 236,
   "metadata": {},
   "outputs": [
    {
     "data": {
      "text/plain": [
       "4.0    101001\n",
       "5.0     29885\n",
       "3.0     24661\n",
       "1.0     22164\n",
       "2.0     13941\n",
       "Name: LIFE_STAGE, dtype: int64"
      ]
     },
     "execution_count": 236,
     "metadata": {},
     "output_type": "execute_result"
    }
   ],
   "source": [
    "#customers_clean.LIFE_STAGE = customers_clean.LIFE_STAGE.astype(float)\n",
    "customers_clean.LIFE_STAGE.value_counts()"
   ]
  },
  {
   "cell_type": "code",
   "execution_count": 237,
   "metadata": {},
   "outputs": [
    {
     "data": {
      "text/plain": [
       "2.0    91008\n",
       "1.0    40262\n",
       "4.0    29074\n",
       "5.0    17645\n",
       "3.0    13663\n",
       "Name: WEALTH, dtype: int64"
      ]
     },
     "execution_count": 237,
     "metadata": {},
     "output_type": "execute_result"
    }
   ],
   "source": [
    "customers_clean.WEALTH.value_counts()"
   ]
  },
  {
   "cell_type": "code",
   "execution_count": 238,
   "metadata": {},
   "outputs": [
    {
     "data": {
      "text/plain": [
       "2.0    91064\n",
       "3.0    34073\n",
       "4.0    26043\n",
       "1.0    21721\n",
       "5.0    12580\n",
       "6.0     6171\n",
       "Name: DECADE, dtype: int64"
      ]
     },
     "execution_count": 238,
     "metadata": {},
     "output_type": "execute_result"
    }
   ],
   "source": [
    "customers_clean.DECADE.value_counts()"
   ]
  },
  {
   "cell_type": "code",
   "execution_count": 239,
   "metadata": {},
   "outputs": [
    {
     "data": {
      "text/plain": [
       "1.0    121283\n",
       "0.0     70369\n",
       "Name: MOVEMENT, dtype: int64"
      ]
     },
     "execution_count": 239,
     "metadata": {},
     "output_type": "execute_result"
    }
   ],
   "source": [
    "customers_clean.MOVEMENT.value_counts()"
   ]
  },
  {
   "cell_type": "code",
   "execution_count": 240,
   "metadata": {},
   "outputs": [],
   "source": [
    "# Apply scaler\n",
    "customers_clean_scaled = scaler.transform(customers_clean)\n",
    "customers_clean_scaled = pd.DataFrame(customers_clean_scaled, columns=list(customers_clean))"
   ]
  },
  {
   "cell_type": "code",
   "execution_count": 241,
   "metadata": {},
   "outputs": [],
   "source": [
    "# PCA \n",
    "customers_pca = pca_30.transform(customers_clean_scaled)"
   ]
  },
  {
   "cell_type": "code",
   "execution_count": 242,
   "metadata": {},
   "outputs": [],
   "source": [
    "# Predict using Kmeans model_12\n",
    "customers_pred = model_12.predict(customers_pca)"
   ]
  },
  {
   "cell_type": "markdown",
   "metadata": {},
   "source": [
    "### Step 3.3: Compare Customer Data to Demographics Data\n",
    "\n",
    "At this point, you have clustered data based on demographics of the general population of Germany, and seen how the customer data for a mail-order sales company maps onto those demographic clusters. In this final substep, you will compare the two cluster distributions to see where the strongest customer base for the company is.\n",
    "\n",
    "Consider the proportion of persons in each cluster for the general population, and the proportions for the customers. If we think the company's customer base to be universal, then the cluster assignment proportions should be fairly similar between the two. If there are only particular segments of the population that are interested in the company's products, then we should see a mismatch from one to the other. If there is a higher proportion of persons in a cluster for the customer data compared to the general population (e.g. 5% of persons are assigned to a cluster for the general population, but 15% of the customer data is closest to that cluster's centroid) then that suggests the people in that cluster to be a target audience for the company. On the other hand, the proportion of the data in a cluster being larger in the general population than the customer data (e.g. only 2% of customers closest to a population centroid that captures 6% of the data) suggests that group of persons to be outside of the target demographics.\n",
    "\n",
    "Take a look at the following points in this step:\n",
    "\n",
    "- Compute the proportion of data points in each cluster for the general population and the customer data. Visualizations will be useful here: both for the individual dataset proportions, but also to visualize the ratios in cluster representation between groups. Seaborn's [`countplot()`](https://seaborn.pydata.org/generated/seaborn.countplot.html) or [`barplot()`](https://seaborn.pydata.org/generated/seaborn.barplot.html) function could be handy.\n",
    "  - Recall the analysis you performed in step 1.1.3 of the project, where you separated out certain data points from the dataset if they had more than a specified threshold of missing values. If you found that this group was qualitatively different from the main bulk of the data, you should treat this as an additional data cluster in this analysis. Make sure that you account for the number of data points in this subset, for both the general population and customer datasets, when making your computations!\n",
    "- Which cluster or clusters are overrepresented in the customer dataset compared to the general population? Select at least one such cluster and infer what kind of people might be represented by that cluster. Use the principal component interpretations from step 2.3 or look at additional components to help you make this inference. Alternatively, you can use the `.inverse_transform()` method of the PCA and StandardScaler objects to transform centroids back to the original data space and interpret the retrieved values directly.\n",
    "- Perform a similar investigation for the underrepresented clusters. Which cluster or clusters are underrepresented in the customer dataset compared to the general population, and what kinds of people are typified by these clusters?"
   ]
  },
  {
   "cell_type": "code",
   "execution_count": 243,
   "metadata": {},
   "outputs": [
    {
     "data": {
      "text/plain": [
       "Text(0.5, 1.0, 'Customer Clusters')"
      ]
     },
     "execution_count": 243,
     "metadata": {},
     "output_type": "execute_result"
    },
    {
     "data": {
      "image/png": "[encoded data removed]",
      "text/plain": [
       "<Figure size 720x360 with 2 Axes>"
      ]
     },
     "metadata": {
      "needs_background": "light"
     },
     "output_type": "display_data"
    }
   ],
   "source": [
    "# Compare the proportion of data in each cluster for the customer data to the\n",
    "# proportion of data in each cluster for the general population.\n",
    "\n",
    "figure, axs = plt.subplots(nrows=1, ncols=2, figsize = (10,5))\n",
    "figure.subplots_adjust(hspace = 1, wspace=.3)\n",
    "\n",
    "sns.countplot(prediction, ax=axs[0])\n",
    "axs[0].set_title('General Clusters')\n",
    "sns.countplot(customers_pred, ax=axs[1])\n",
    "axs[1].set_title('Customer Clusters')\n"
   ]
  },
  {
   "cell_type": "code",
   "execution_count": 244,
   "metadata": {},
   "outputs": [],
   "source": [
    "# What kinds of people are part of a cluster that is overrepresented in the\n",
    "# customer data compared to the general population?\n",
    "\n",
    "centroid_6 = scaler.inverse_transform(pca_30.inverse_transform(model_12.cluster_centers_[6]))"
   ]
  },
  {
   "cell_type": "code",
   "execution_count": 245,
   "metadata": {},
   "outputs": [],
   "source": [
    "overrepresented = pd.Series(data = centroid_6, index = customers_clean.columns)"
   ]
  },
  {
   "cell_type": "code",
   "execution_count": 259,
   "metadata": {},
   "outputs": [
    {
     "name": "stdout",
     "output_type": "stream",
     "text": [
      "SOHO_KZ                     0.000051\n",
      "ANZ_TITEL                   0.002575\n",
      "ANZ_HH_TITEL                0.006550\n",
      "KBA05_ANTG4                 0.040201\n",
      "OST_WEST_KZ                 0.142786\n",
      "GREEN_AVANTGARDE            0.180226\n",
      "KBA05_ANTG3                 0.240501\n",
      "PLZ8_ANTG4                  0.253368\n",
      "MOVEMENT                    0.819774\n",
      "PLZ8_ANTG3                  1.014731\n",
      "KBA05_ANTG2                 1.229796\n",
      "VERS_TYP                    1.488176\n",
      "ALTERSKATEGORIE_GROB        1.787574\n",
      "ANREDE_KZ                   1.965870\n",
      "ANZ_PERSONEN                1.966895\n",
      "KBA05_ANTG1                 2.025348\n",
      "FINANZ_VORSORGER            2.284820\n",
      "FINANZ_MINIMALIST           2.316854\n",
      "HEALTH_TYP                  2.339456\n",
      "PLZ8_ANTG2                  2.417296\n",
      "RELAT_AB                    2.500937\n",
      "WEALTH                      2.521415\n",
      "RETOURTYP_BK_S              2.540963\n",
      "SEMIO_VERT                  2.553304\n",
      "KKK                         2.663961\n",
      "SEMIO_SOZ                   2.679798\n",
      "ARBEIT                      2.743905\n",
      "PLZ8_ANTG1                  2.809497\n",
      "FINANZ_HAUSBAUER            2.832219\n",
      "EWDICHTE                    2.979005\n",
      "LIFE_STAGE                  3.194057\n",
      "SEMIO_LUST                  3.222350\n",
      "ANZ_HAUSHALTE_AKTIV         3.387353\n",
      "W_KEIT_KIND_HH              3.500213\n",
      "ONLINE_AFFINITAET           3.510065\n",
      "PLZ8_HHZ                    3.526758\n",
      "MOBI_REGIO                  3.548381\n",
      "KONSUMNAEHE                 3.701447\n",
      "SEMIO_FAM                   3.767906\n",
      "KBA05_GBZ                   3.837935\n",
      "PLZ8_GBZ                    3.896126\n",
      "FINANZ_UNAUFFAELLIGER       3.915789\n",
      "ORTSGR_KLS9                 3.946950\n",
      "FINANZ_SPARER               3.991814\n",
      "GEBAEUDETYP_RASTER          3.998135\n",
      "SEMIO_KULT                  4.001872\n",
      "HH_EINKOMMEN_SCORE          4.019644\n",
      "SEMIO_ERL                   4.380590\n",
      "REGIOTYP                    4.401136\n",
      "FINANZ_ANLEGER              4.425112\n",
      "BALLRAUM                    4.993907\n",
      "SEMIO_MAT                   5.019232\n",
      "SEMIO_REL                   5.233674\n",
      "SEMIO_KRIT                  5.407882\n",
      "INNENSTADT                  5.483596\n",
      "SEMIO_KAEM                  5.543232\n",
      "SEMIO_TRADV                 5.586353\n",
      "DECADE                      5.691877\n",
      "SEMIO_DOM                   5.879799\n",
      "SEMIO_PFLICHT               5.999616\n",
      "SEMIO_RAT                   6.073431\n",
      "WOHNDAUER_2008              7.538462\n",
      "KBA13_ANZAHL_PKW          722.345726\n",
      "MIN_GEBAEUDEJAHR         1994.141953\n"
     ]
    }
   ],
   "source": [
    "print(overrepresented.sort_values().to_string())"
   ]
  },
  {
   "cell_type": "code",
   "execution_count": 247,
   "metadata": {},
   "outputs": [],
   "source": [
    "# What kinds of people are part of a cluster that is underrepresented in the\n",
    "# customer data compared to the general population?\n",
    "\n",
    "centroid_3 = scaler.inverse_transform(pca_30.inverse_transform(model_12.cluster_centers_[3]))\n",
    "underrepresented = pd.Series(data = centroid_3, index = customers_clean.columns)"
   ]
  },
  {
   "cell_type": "code",
   "execution_count": 257,
   "metadata": {},
   "outputs": [
    {
     "name": "stdout",
     "output_type": "stream",
     "text": [
      "SOHO_KZ                     0.000002\n",
      "ANZ_TITEL                   0.002333\n",
      "GREEN_AVANTGARDE            0.039967\n",
      "ANZ_HH_TITEL                0.040130\n",
      "OST_WEST_KZ                 0.252737\n",
      "KBA05_ANTG1                 0.407057\n",
      "KBA05_ANTG4                 0.559709\n",
      "MOVEMENT                    0.960033\n",
      "FINANZ_MINIMALIST           1.179989\n",
      "KBA05_ANTG3                 1.192120\n",
      "PLZ8_ANTG4                  1.237169\n",
      "KBA05_ANTG2                 1.312947\n",
      "ANZ_PERSONEN                1.453370\n",
      "PLZ8_ANTG1                  1.488396\n",
      "VERS_TYP                    1.540002\n",
      "ALTERSKATEGORIE_GROB        1.674290\n",
      "MOBI_REGIO                  1.783588\n",
      "ANREDE_KZ                   2.001280\n",
      "LIFE_STAGE                  2.045662\n",
      "KONSUMNAEHE                 2.109779\n",
      "FINANZ_VORSORGER            2.201614\n",
      "KBA05_GBZ                   2.204315\n",
      "SEMIO_VERT                  2.223427\n",
      "HEALTH_TYP                  2.316992\n",
      "PLZ8_ANTG3                  2.407168\n",
      "RETOURTYP_BK_S              2.668544\n",
      "PLZ8_GBZ                    2.748147\n",
      "KKK                         2.882639\n",
      "ONLINE_AFFINITAET           2.999072\n",
      "SEMIO_LUST                  3.119856\n",
      "BALLRAUM                    3.188109\n",
      "SEMIO_SOZ                   3.189998\n",
      "PLZ8_ANTG2                  3.353207\n",
      "INNENSTADT                  3.362260\n",
      "GEBAEUDETYP_RASTER          3.416086\n",
      "ARBEIT                      3.673659\n",
      "FINANZ_UNAUFFAELLIGER       3.732428\n",
      "RELAT_AB                    3.749195\n",
      "PLZ8_HHZ                    3.751876\n",
      "SEMIO_FAM                   3.947948\n",
      "SEMIO_KULT                  4.131195\n",
      "FINANZ_ANLEGER              4.155597\n",
      "FINANZ_HAUSBAUER            4.166077\n",
      "W_KEIT_KIND_HH              4.218991\n",
      "FINANZ_SPARER               4.293693\n",
      "SEMIO_ERL                   4.294618\n",
      "WEALTH                      4.322883\n",
      "SEMIO_MAT                   4.963532\n",
      "REGIOTYP                    5.063403\n",
      "EWDICHTE                    5.180591\n",
      "SEMIO_REL                   5.392917\n",
      "SEMIO_KRIT                  5.518088\n",
      "SEMIO_TRADV                 5.564444\n",
      "HH_EINKOMMEN_SCORE          5.593270\n",
      "DECADE                      5.694884\n",
      "SEMIO_KAEM                  6.115716\n",
      "SEMIO_DOM                   6.152199\n",
      "SEMIO_RAT                   6.154150\n",
      "SEMIO_PFLICHT               6.223905\n",
      "ORTSGR_KLS9                 6.934663\n",
      "WOHNDAUER_2008              7.304069\n",
      "ANZ_HAUSHALTE_AKTIV        13.405256\n",
      "KBA13_ANZAHL_PKW          531.526709\n",
      "MIN_GEBAEUDEJAHR         1992.487460\n"
     ]
    }
   ],
   "source": [
    "print(underrepresented.sort_values().to_string())"
   ]
  },
  {
   "cell_type": "code",
   "execution_count": 263,
   "metadata": {},
   "outputs": [
    {
     "name": "stdout",
     "output_type": "stream",
     "text": [
      "                  Feature   Centroid 6   Centroid 3\n",
      "0    ALTERSKATEGORIE_GROB     1.787574     1.674290\n",
      "1               ANREDE_KZ     1.965870     2.001280\n",
      "2       FINANZ_MINIMALIST     2.316854     1.179989\n",
      "3           FINANZ_SPARER     3.991814     4.293693\n",
      "4        FINANZ_VORSORGER     2.284820     2.201614\n",
      "5          FINANZ_ANLEGER     4.425112     4.155597\n",
      "6   FINANZ_UNAUFFAELLIGER     3.915789     3.732428\n",
      "7        FINANZ_HAUSBAUER     2.832219     4.166077\n",
      "8        GREEN_AVANTGARDE     0.180226     0.039967\n",
      "9              HEALTH_TYP     2.339456     2.316992\n",
      "10         RETOURTYP_BK_S     2.540963     2.668544\n",
      "11              SEMIO_SOZ     2.679798     3.189998\n",
      "12              SEMIO_FAM     3.767906     3.947948\n",
      "13              SEMIO_REL     5.233674     5.392917\n",
      "14              SEMIO_MAT     5.019232     4.963532\n",
      "15             SEMIO_VERT     2.553304     2.223427\n",
      "16             SEMIO_LUST     3.222350     3.119856\n",
      "17              SEMIO_ERL     4.380590     4.294618\n",
      "18             SEMIO_KULT     4.001872     4.131195\n",
      "19              SEMIO_RAT     6.073431     6.154150\n",
      "20             SEMIO_KRIT     5.407882     5.518088\n",
      "21              SEMIO_DOM     5.879799     6.152199\n",
      "22             SEMIO_KAEM     5.543232     6.115716\n",
      "23          SEMIO_PFLICHT     5.999616     6.223905\n",
      "24            SEMIO_TRADV     5.586353     5.564444\n",
      "25                SOHO_KZ     0.000051     0.000002\n",
      "26               VERS_TYP     1.488176     1.540002\n",
      "27           ANZ_PERSONEN     1.966895     1.453370\n",
      "28              ANZ_TITEL     0.002575     0.002333\n",
      "29     HH_EINKOMMEN_SCORE     4.019644     5.593270\n",
      "30         W_KEIT_KIND_HH     3.500213     4.218991\n",
      "31         WOHNDAUER_2008     7.538462     7.304069\n",
      "32    ANZ_HAUSHALTE_AKTIV     3.387353    13.405256\n",
      "33           ANZ_HH_TITEL     0.006550     0.040130\n",
      "34            KONSUMNAEHE     3.701447     2.109779\n",
      "35       MIN_GEBAEUDEJAHR  1994.141953  1992.487460\n",
      "36            OST_WEST_KZ     0.142786     0.252737\n",
      "37            KBA05_ANTG1     2.025348     0.407057\n",
      "38            KBA05_ANTG2     1.229796     1.312947\n",
      "39            KBA05_ANTG3     0.240501     1.192120\n",
      "40            KBA05_ANTG4     0.040201     0.559709\n",
      "41              KBA05_GBZ     3.837935     2.204315\n",
      "42               BALLRAUM     4.993907     3.188109\n",
      "43               EWDICHTE     2.979005     5.180591\n",
      "44             INNENSTADT     5.483596     3.362260\n",
      "45     GEBAEUDETYP_RASTER     3.998135     3.416086\n",
      "46                    KKK     2.663961     2.882639\n",
      "47             MOBI_REGIO     3.548381     1.783588\n",
      "48      ONLINE_AFFINITAET     3.510065     2.999072\n",
      "49               REGIOTYP     4.401136     5.063403\n",
      "50       KBA13_ANZAHL_PKW   722.345726   531.526709\n",
      "51             PLZ8_ANTG1     2.809497     1.488396\n",
      "52             PLZ8_ANTG2     2.417296     3.353207\n",
      "53             PLZ8_ANTG3     1.014731     2.407168\n",
      "54             PLZ8_ANTG4     0.253368     1.237169\n",
      "55               PLZ8_HHZ     3.526758     3.751876\n",
      "56               PLZ8_GBZ     3.896126     2.748147\n",
      "57                 ARBEIT     2.743905     3.673659\n",
      "58            ORTSGR_KLS9     3.946950     6.934663\n",
      "59               RELAT_AB     2.500937     3.749195\n",
      "60                 DECADE     5.691877     5.694884\n",
      "61               MOVEMENT     0.819774     0.960033\n",
      "62                 WEALTH     2.521415     4.322883\n",
      "63             LIFE_STAGE     3.194057     2.045662\n"
     ]
    }
   ],
   "source": [
    "entroids=pd.DataFrame({\"Feature\":customers_clean.columns,\"Centroid 6\":centroid_6,\"Centroid 3\":centroid_3})\n",
    "print(entroids.to_string())"
   ]
  },
  {
   "cell_type": "code",
   "execution_count": 278,
   "metadata": {},
   "outputs": [
    {
     "data": {
      "text/plain": [
       "array([[<matplotlib.axes._subplots.AxesSubplot object at 0x1a1f5dd4d0>]],\n",
       "      dtype=object)"
      ]
     },
     "execution_count": 278,
     "metadata": {},
     "output_type": "execute_result"
    },
    {
     "data": {
      "image/png": "[encoded data removed]",
      "text/plain": [
       "<Figure size 432x288 with 1 Axes>"
      ]
     },
     "metadata": {
      "needs_background": "light"
     },
     "output_type": "display_data"
    }
   ],
   "source": [
    "cust_clus = pd.DataFrame (customers_pred, columns = ['customers_clusters'])\n",
    "\n",
    "cust_clus.hist ()"
   ]
  },
  {
   "cell_type": "code",
   "execution_count": 279,
   "metadata": {},
   "outputs": [
    {
     "data": {
      "text/plain": [
       "array([[<matplotlib.axes._subplots.AxesSubplot object at 0x1a1f439dd0>]],\n",
       "      dtype=object)"
      ]
     },
     "execution_count": 279,
     "metadata": {},
     "output_type": "execute_result"
    },
    {
     "data": {
      "image/png": "[encoded data removed]",
      "text/plain": [
       "<Figure size 432x288 with 1 Axes>"
      ]
     },
     "metadata": {
      "needs_background": "light"
     },
     "output_type": "display_data"
    }
   ],
   "source": [
    "population_clus = pd.DataFrame (prediction, columns = ['population_clusters'])\n",
    "population_clus.hist ()\n"
   ]
  },
  {
   "cell_type": "code",
   "execution_count": 280,
   "metadata": {},
   "outputs": [
    {
     "data": {
      "text/html": [
       "<div>\n",
       "<style scoped>\n",
       "    .dataframe tbody tr th:only-of-type {\n",
       "        vertical-align: middle;\n",
       "    }\n",
       "\n",
       "    .dataframe tbody tr th {\n",
       "        vertical-align: top;\n",
       "    }\n",
       "\n",
       "    .dataframe thead th {\n",
       "        text-align: right;\n",
       "    }\n",
       "</style>\n",
       "<table border=\"1\" class=\"dataframe\">\n",
       "  <thead>\n",
       "    <tr style=\"text-align: right;\">\n",
       "      <th></th>\n",
       "      <th>population_clusters</th>\n",
       "    </tr>\n",
       "  </thead>\n",
       "  <tbody>\n",
       "    <tr>\n",
       "      <th>0</th>\n",
       "      <td>0.841289</td>\n",
       "    </tr>\n",
       "    <tr>\n",
       "      <th>1</th>\n",
       "      <td>10.907813</td>\n",
       "    </tr>\n",
       "    <tr>\n",
       "      <th>2</th>\n",
       "      <td>7.771085</td>\n",
       "    </tr>\n",
       "    <tr>\n",
       "      <th>3</th>\n",
       "      <td>10.202604</td>\n",
       "    </tr>\n",
       "    <tr>\n",
       "      <th>4</th>\n",
       "      <td>7.370364</td>\n",
       "    </tr>\n",
       "    <tr>\n",
       "      <th>5</th>\n",
       "      <td>8.162158</td>\n",
       "    </tr>\n",
       "    <tr>\n",
       "      <th>6</th>\n",
       "      <td>10.683770</td>\n",
       "    </tr>\n",
       "    <tr>\n",
       "      <th>7</th>\n",
       "      <td>10.026427</td>\n",
       "    </tr>\n",
       "    <tr>\n",
       "      <th>8</th>\n",
       "      <td>10.643046</td>\n",
       "    </tr>\n",
       "    <tr>\n",
       "      <th>9</th>\n",
       "      <td>7.154340</td>\n",
       "    </tr>\n",
       "    <tr>\n",
       "      <th>10</th>\n",
       "      <td>10.746046</td>\n",
       "    </tr>\n",
       "    <tr>\n",
       "      <th>11</th>\n",
       "      <td>5.491059</td>\n",
       "    </tr>\n",
       "  </tbody>\n",
       "</table>\n",
       "</div>"
      ],
      "text/plain": [
       "    population_clusters\n",
       "0              0.841289\n",
       "1             10.907813\n",
       "2              7.771085\n",
       "3             10.202604\n",
       "4              7.370364\n",
       "5              8.162158\n",
       "6             10.683770\n",
       "7             10.026427\n",
       "8             10.643046\n",
       "9              7.154340\n",
       "10            10.746046\n",
       "11             5.491059"
      ]
     },
     "metadata": {},
     "output_type": "display_data"
    },
    {
     "name": "stdout",
     "output_type": "stream",
     "text": [
      "population_clusters    100.0\n",
      "dtype: float64\n"
     ]
    }
   ],
   "source": [
    "population_prop = pd.DataFrame (population_clus.population_clusters.value_counts ())/ (features_scaled.shape [0]) * 100\n",
    "\n",
    "population_prop.sort_index (inplace = True)\n",
    "display (population_prop)\n",
    "\n",
    "print (population_prop.sum ())"
   ]
  },
  {
   "cell_type": "code",
   "execution_count": 282,
   "metadata": {},
   "outputs": [
    {
     "data": {
      "text/html": [
       "<div>\n",
       "<style scoped>\n",
       "    .dataframe tbody tr th:only-of-type {\n",
       "        vertical-align: middle;\n",
       "    }\n",
       "\n",
       "    .dataframe tbody tr th {\n",
       "        vertical-align: top;\n",
       "    }\n",
       "\n",
       "    .dataframe thead th {\n",
       "        text-align: right;\n",
       "    }\n",
       "</style>\n",
       "<table border=\"1\" class=\"dataframe\">\n",
       "  <thead>\n",
       "    <tr style=\"text-align: right;\">\n",
       "      <th></th>\n",
       "      <th>customers_clusters</th>\n",
       "    </tr>\n",
       "  </thead>\n",
       "  <tbody>\n",
       "    <tr>\n",
       "      <th>0</th>\n",
       "      <td>0.745622</td>\n",
       "    </tr>\n",
       "    <tr>\n",
       "      <th>1</th>\n",
       "      <td>6.788867</td>\n",
       "    </tr>\n",
       "    <tr>\n",
       "      <th>2</th>\n",
       "      <td>1.497506</td>\n",
       "    </tr>\n",
       "    <tr>\n",
       "      <th>3</th>\n",
       "      <td>0.696053</td>\n",
       "    </tr>\n",
       "    <tr>\n",
       "      <th>4</th>\n",
       "      <td>24.318557</td>\n",
       "    </tr>\n",
       "    <tr>\n",
       "      <th>5</th>\n",
       "      <td>0.697619</td>\n",
       "    </tr>\n",
       "    <tr>\n",
       "      <th>6</th>\n",
       "      <td>25.488907</td>\n",
       "    </tr>\n",
       "    <tr>\n",
       "      <th>7</th>\n",
       "      <td>5.990545</td>\n",
       "    </tr>\n",
       "    <tr>\n",
       "      <th>8</th>\n",
       "      <td>8.191931</td>\n",
       "    </tr>\n",
       "    <tr>\n",
       "      <th>9</th>\n",
       "      <td>8.739799</td>\n",
       "    </tr>\n",
       "    <tr>\n",
       "      <th>10</th>\n",
       "      <td>14.054641</td>\n",
       "    </tr>\n",
       "    <tr>\n",
       "      <th>11</th>\n",
       "      <td>2.789953</td>\n",
       "    </tr>\n",
       "  </tbody>\n",
       "</table>\n",
       "</div>"
      ],
      "text/plain": [
       "    customers_clusters\n",
       "0             0.745622\n",
       "1             6.788867\n",
       "2             1.497506\n",
       "3             0.696053\n",
       "4            24.318557\n",
       "5             0.697619\n",
       "6            25.488907\n",
       "7             5.990545\n",
       "8             8.191931\n",
       "9             8.739799\n",
       "10           14.054641\n",
       "11            2.789953"
      ]
     },
     "metadata": {},
     "output_type": "display_data"
    },
    {
     "name": "stdout",
     "output_type": "stream",
     "text": [
      "customers_clusters    100.0\n",
      "dtype: float64\n"
     ]
    }
   ],
   "source": [
    "customers_prop = pd.DataFrame (cust_clus.customers_clusters.value_counts ())/ (customers_clean.shape [0]) * 100\n",
    "\n",
    "customers_prop.sort_index (inplace = True)\n",
    "display (customers_prop)\n",
    "\n",
    "print (customers_prop.sum ())"
   ]
  },
  {
   "cell_type": "code",
   "execution_count": 285,
   "metadata": {},
   "outputs": [
    {
     "data": {
      "text/html": [
       "<div>\n",
       "<style scoped>\n",
       "    .dataframe tbody tr th:only-of-type {\n",
       "        vertical-align: middle;\n",
       "    }\n",
       "\n",
       "    .dataframe tbody tr th {\n",
       "        vertical-align: top;\n",
       "    }\n",
       "\n",
       "    .dataframe thead th {\n",
       "        text-align: right;\n",
       "    }\n",
       "</style>\n",
       "<table border=\"1\" class=\"dataframe\">\n",
       "  <thead>\n",
       "    <tr style=\"text-align: right;\">\n",
       "      <th></th>\n",
       "      <th>population_clusters</th>\n",
       "    </tr>\n",
       "  </thead>\n",
       "  <tbody>\n",
       "    <tr>\n",
       "      <th>798051</th>\n",
       "      <td>8</td>\n",
       "    </tr>\n",
       "    <tr>\n",
       "      <th>798052</th>\n",
       "      <td>11</td>\n",
       "    </tr>\n",
       "    <tr>\n",
       "      <th>798053</th>\n",
       "      <td>9</td>\n",
       "    </tr>\n",
       "    <tr>\n",
       "      <th>798054</th>\n",
       "      <td>3</td>\n",
       "    </tr>\n",
       "    <tr>\n",
       "      <th>798055</th>\n",
       "      <td>3</td>\n",
       "    </tr>\n",
       "    <tr>\n",
       "      <th>798056</th>\n",
       "      <td>6</td>\n",
       "    </tr>\n",
       "    <tr>\n",
       "      <th>798057</th>\n",
       "      <td>8</td>\n",
       "    </tr>\n",
       "    <tr>\n",
       "      <th>798058</th>\n",
       "      <td>6</td>\n",
       "    </tr>\n",
       "    <tr>\n",
       "      <th>798059</th>\n",
       "      <td>5</td>\n",
       "    </tr>\n",
       "    <tr>\n",
       "      <th>798060</th>\n",
       "      <td>8</td>\n",
       "    </tr>\n",
       "  </tbody>\n",
       "</table>\n",
       "</div>"
      ],
      "text/plain": [
       "        population_clusters\n",
       "798051                    8\n",
       "798052                   11\n",
       "798053                    9\n",
       "798054                    3\n",
       "798055                    3\n",
       "798056                    6\n",
       "798057                    8\n",
       "798058                    6\n",
       "798059                    5\n",
       "798060                    8"
      ]
     },
     "metadata": {},
     "output_type": "display_data"
    },
    {
     "name": "stdout",
     "output_type": "stream",
     "text": [
      "(798061, 1)\n"
     ]
    }
   ],
   "source": [
    "azdias_clust = pd.DataFrame (population_clus, columns = ['population_clusters'])\n",
    "azdias_clust.index = features_scaled.index \n",
    "display (azdias_clust.tail (n=10))\n",
    "print (azdias_clust.shape)"
   ]
  },
  {
   "cell_type": "code",
   "execution_count": 286,
   "metadata": {},
   "outputs": [
    {
     "data": {
      "text/html": [
       "<div>\n",
       "<style scoped>\n",
       "    .dataframe tbody tr th:only-of-type {\n",
       "        vertical-align: middle;\n",
       "    }\n",
       "\n",
       "    .dataframe tbody tr th {\n",
       "        vertical-align: top;\n",
       "    }\n",
       "\n",
       "    .dataframe thead th {\n",
       "        text-align: right;\n",
       "    }\n",
       "</style>\n",
       "<table border=\"1\" class=\"dataframe\">\n",
       "  <thead>\n",
       "    <tr style=\"text-align: right;\">\n",
       "      <th></th>\n",
       "      <th>customers_clusters</th>\n",
       "    </tr>\n",
       "  </thead>\n",
       "  <tbody>\n",
       "    <tr>\n",
       "      <th>191642</th>\n",
       "      <td>11</td>\n",
       "    </tr>\n",
       "    <tr>\n",
       "      <th>191643</th>\n",
       "      <td>4</td>\n",
       "    </tr>\n",
       "    <tr>\n",
       "      <th>191644</th>\n",
       "      <td>1</td>\n",
       "    </tr>\n",
       "    <tr>\n",
       "      <th>191645</th>\n",
       "      <td>4</td>\n",
       "    </tr>\n",
       "    <tr>\n",
       "      <th>191646</th>\n",
       "      <td>3</td>\n",
       "    </tr>\n",
       "    <tr>\n",
       "      <th>191647</th>\n",
       "      <td>4</td>\n",
       "    </tr>\n",
       "    <tr>\n",
       "      <th>191648</th>\n",
       "      <td>7</td>\n",
       "    </tr>\n",
       "    <tr>\n",
       "      <th>191649</th>\n",
       "      <td>4</td>\n",
       "    </tr>\n",
       "    <tr>\n",
       "      <th>191650</th>\n",
       "      <td>7</td>\n",
       "    </tr>\n",
       "    <tr>\n",
       "      <th>191651</th>\n",
       "      <td>10</td>\n",
       "    </tr>\n",
       "  </tbody>\n",
       "</table>\n",
       "</div>"
      ],
      "text/plain": [
       "        customers_clusters\n",
       "191642                  11\n",
       "191643                   4\n",
       "191644                   1\n",
       "191645                   4\n",
       "191646                   3\n",
       "191647                   4\n",
       "191648                   7\n",
       "191649                   4\n",
       "191650                   7\n",
       "191651                  10"
      ]
     },
     "metadata": {},
     "output_type": "display_data"
    },
    {
     "name": "stdout",
     "output_type": "stream",
     "text": [
      "(191652, 1)\n"
     ]
    }
   ],
   "source": [
    "customers_clust = pd.DataFrame (cust_clus, columns = ['customers_clusters'])\n",
    "customers_clust.index = customers_clean.index \n",
    "display (customers_clust.tail (n=10))\n",
    "print (customers_clust.shape)"
   ]
  },
  {
   "cell_type": "code",
   "execution_count": 299,
   "metadata": {},
   "outputs": [
    {
     "data": {
      "text/plain": [
       "array([-1.24889365,  0.7670949 , -0.57689747,  0.09509872,  1.43909109])"
      ]
     },
     "execution_count": 299,
     "metadata": {},
     "output_type": "execute_result"
    }
   ],
   "source": [
    "features_scaledLIFE_STAGE"
   ]
  },
  {
   "cell_type": "code",
   "execution_count": 312,
   "metadata": {},
   "outputs": [
    {
     "name": "stdout",
     "output_type": "stream",
     "text": [
      " 0.957914    83225\n",
      "-1.043935     2038\n",
      "Name: ANREDE_KZ, dtype: int64\n",
      "-1.494594    32602\n",
      "-0.768681    18837\n",
      " 0.683144    15901\n",
      "-0.042768    15450\n",
      " 1.409057     2473\n",
      "Name: FINANZ_MINIMALIST, dtype: int64\n",
      " 0.864563    33084\n",
      " 1.537924    28931\n",
      " 0.191203    15127\n",
      "-0.482158     6757\n",
      "-1.155518     1364\n",
      "Name: FINANZ_SPARER, dtype: int64\n",
      "-1.040692    26399\n",
      "-0.314404    24964\n",
      "-1.766980    24462\n",
      " 0.411884     8113\n",
      " 1.138172     1325\n",
      "Name: FINANZ_VORSORGER, dtype: int64\n",
      " 1.465965    47236\n",
      " 0.786978    25611\n",
      " 0.107990     8939\n",
      "-0.570998     2842\n",
      "-1.249985      635\n",
      "Name: FINANZ_ANLEGER, dtype: int64\n",
      " 1.673172    34598\n",
      " 0.958645    26056\n",
      " 0.244119    16199\n",
      "-0.470407     5581\n",
      "-1.184933     2829\n",
      "Name: FINANZ_UNAUFFAELLIGER, dtype: int64\n",
      "-0.791205    20548\n",
      " 0.629141    19204\n",
      "-1.501377    17210\n",
      "-0.081032    15861\n",
      " 1.339314    12440\n",
      "Name: FINANZ_HAUSBAUER, dtype: int64\n",
      "-0.530409    69686\n",
      " 1.885336    15577\n",
      "Name: GREEN_AVANTGARDE, dtype: int64\n",
      " 1.010164    45591\n",
      "-0.311816    25445\n",
      "-1.633796    14227\n",
      "Name: HEALTH_TYP, dtype: int64\n",
      "-1.685445    26780\n",
      " 0.376381    20351\n",
      "-0.998170    18474\n",
      "-0.310894    11232\n",
      " 1.063656     8426\n",
      "Name: RETOURTYP_BK_S, dtype: int64\n",
      "-1.102454    42767\n",
      " 0.443199    13979\n",
      "-1.617671    11272\n",
      "-0.072018     9008\n",
      "-0.587236     8199\n",
      " 0.958417       38\n",
      "Name: SEMIO_SOZ, dtype: int64\n",
      " 0.463193    27006\n",
      "-0.059352    26845\n",
      "-1.104443    25506\n",
      "-0.581898     2311\n",
      " 0.985739     2116\n",
      "-1.626988     1479\n",
      "Name: SEMIO_FAM, dtype: int64\n",
      " 1.573113    27866\n",
      " 0.526267    26228\n",
      " 0.002844    25908\n",
      "-0.520579     4353\n",
      "-1.567425      886\n",
      "-1.044002       22\n",
      "Name: SEMIO_REL, dtype: int64\n",
      " 1.626832    31770\n",
      " 0.058780    30177\n",
      "-0.463904    14242\n",
      " 0.581464     6163\n",
      "-0.986589     2357\n",
      " 1.104148      429\n",
      "-1.509273      125\n",
      "Name: SEMIO_MAT, dtype: int64\n",
      "-1.170528    34746\n",
      "-0.142556    21177\n",
      "-1.684514    19505\n",
      " 0.371430     5021\n",
      "-0.656542     4717\n",
      " 1.399401       96\n",
      " 0.885415        1\n",
      "Name: SEMIO_VERT, dtype: int64\n",
      "-1.109907    33718\n",
      "-0.634323    22915\n",
      " 0.792431    11170\n",
      "-0.158738     5283\n",
      " 1.268015     5016\n",
      "-1.585492     3777\n",
      " 0.316846     3384\n",
      "Name: SEMIO_LUST, dtype: int64\n",
      " 0.206850    37249\n",
      "-0.340559    18941\n",
      "-1.435376    14944\n",
      " 1.301667     5329\n",
      " 0.754258     5230\n",
      "-0.887967     3570\n",
      "Name: SEMIO_ERL, dtype: int64\n",
      "-0.578167    28176\n",
      " 0.443408    26484\n",
      " 0.954195    10616\n",
      "-1.088954    10105\n",
      "-0.067380     8246\n",
      "-1.599742     1636\n",
      "Name: SEMIO_KULT, dtype: int64\n",
      " 1.879156    35979\n",
      " 1.274182    32375\n",
      " 0.064234    14992\n",
      " 0.669208     1650\n",
      "-1.750689      136\n",
      "-1.145714      107\n",
      "-0.540740       24\n",
      "Name: SEMIO_RAT, dtype: int64\n",
      "-0.312190    32096\n",
      " 1.392000    28518\n",
      " 0.823937    18862\n",
      " 0.255873     5749\n",
      "-0.880254       38\n",
      "Name: SEMIO_KRIT, dtype: int64\n",
      " 1.339259    37615\n",
      "-0.303541    22063\n",
      " 0.791659    20960\n",
      " 0.244059     4606\n",
      "-1.398740       18\n",
      "-0.851141        1\n",
      "Name: SEMIO_DOM, dtype: int64\n",
      " 0.377873    26898\n",
      "-0.157562    26038\n",
      " 1.448744    16031\n",
      " 0.913308    15768\n",
      "-0.692998      514\n",
      "-1.228433       14\n",
      "Name: SEMIO_KAEM, dtype: int64\n",
      " 1.518695    31502\n",
      " 0.979287    24117\n",
      " 0.439878    17873\n",
      "-0.099530     9478\n",
      "-0.638939     1955\n",
      "-1.717756      186\n",
      "-1.178347      152\n",
      "Name: SEMIO_PFLICHT, dtype: int64\n",
      " 1.855379    37249\n",
      " 1.288982    32926\n",
      "-0.410211     8444\n",
      "-0.976608     3926\n",
      " 0.156187     2496\n",
      "-1.543006      222\n",
      "Name: SEMIO_TRADV, dtype: int64\n",
      "-0.092131    85263\n",
      "Name: SOHO_KZ, dtype: int64\n",
      "-1.083489    44416\n",
      " 0.922944    40847\n",
      "Name: VERS_TYP, dtype: int64\n",
      "-0.630205     38818\n",
      " 0.234451     20384\n",
      " 1.099108     12217\n",
      " 1.963765      7063\n",
      "-1.494862      2880\n",
      " 2.828421      2644\n",
      " 3.693078       812\n",
      " 4.557735       277\n",
      " 5.422391       107\n",
      " 6.287048        41\n",
      " 8.016361         9\n",
      " 8.881018         5\n",
      " 7.151705         4\n",
      " 9.745675         1\n",
      " 10.610331        1\n",
      "Name: ANZ_PERSONEN, dtype: int64\n",
      "-0.060408     85077\n",
      " 14.456030      172\n",
      " 28.972468       14\n",
      "Name: ANZ_TITEL, dtype: int64\n",
      " 0.379568    24283\n",
      "-0.267579    20306\n",
      "-0.914725    13424\n",
      " 1.026714    12954\n",
      "-1.561872     9418\n",
      "-2.209018     4878\n",
      "Name: HH_EINKOMMEN_SCORE, dtype: int64\n",
      " 0.957033    25701\n",
      "-1.855005    18195\n",
      "-0.730190    16245\n",
      "-1.292597    14574\n",
      "-0.167782     9785\n",
      " 0.394626      763\n",
      "Name: W_KEIT_KIND_HH, dtype: int64\n",
      " 0.567325    50162\n",
      " 0.047339     9080\n",
      "-2.032606     7226\n",
      "-2.552592     5307\n",
      "-0.992633     5130\n",
      "-1.512619     4329\n",
      "-0.472647     3179\n",
      "-3.072578      791\n",
      "-3.592564       59\n",
      "Name: WOHNDAUER_2008, dtype: int64\n",
      "-0.466933    27937\n",
      "-0.402929    21643\n",
      "-0.338925    11121\n",
      "-0.274922     6395\n",
      "-0.210918     4539\n",
      "             ...  \n",
      " 2.093209        1\n",
      " 3.501286        1\n",
      " 3.949311        1\n",
      " 3.693297        1\n",
      " 4.141321        1\n",
      "Name: ANZ_HAUSHALTE_AKTIV, Length: 63, dtype: int64\n",
      "-0.125134     84546\n",
      " 2.968367       680\n",
      " 6.061867        29\n",
      " 9.155368         6\n",
      " 12.248868        2\n",
      "Name: ANZ_HH_TITEL, dtype: int64\n",
      " 1.274841    26447\n",
      " 0.629997    17393\n",
      "-0.014846    17120\n",
      "-0.659690    10304\n",
      "-1.304534     8611\n",
      " 1.919684     4659\n",
      " 2.564528      729\n",
      "Name: KONSUMNAEHE, dtype: int64\n",
      "-0.383170    56380\n",
      " 0.217045     7121\n",
      " 0.517152     3076\n",
      " 0.817259     2616\n",
      " 1.117367     2475\n",
      "-0.083062     2027\n",
      " 2.017689     1426\n",
      " 2.317796     1085\n",
      " 3.518225      998\n",
      " 1.717581      893\n",
      " 2.617903      882\n",
      " 1.417474      818\n",
      " 2.918011      666\n",
      " 3.218118      577\n",
      " 5.318869      443\n",
      " 4.118440      441\n",
      " 5.618976      438\n",
      " 4.418547      437\n",
      " 4.718654      431\n",
      " 3.818332      400\n",
      " 5.018762      353\n",
      " 5.919084      317\n",
      "-0.683277      262\n",
      " 6.219191      203\n",
      " 6.519298      171\n",
      "-0.983384      150\n",
      "-1.283492       74\n",
      "-1.583599       48\n",
      " 6.819405       26\n",
      "-1.883706       17\n",
      "-2.183814        8\n",
      "-2.483921        4\n",
      "Name: MIN_GEBAEUDEJAHR, dtype: int64\n",
      "-0.517426    72786\n",
      " 1.932645    12477\n",
      "Name: OST_WEST_KZ, dtype: int64\n",
      " 0.412990    20971\n",
      " 1.123906    19837\n",
      "-0.297927    16302\n",
      " 1.834823    14462\n",
      "-1.008844    13691\n",
      "Name: KBA05_ANTG1, dtype: int64\n",
      "-0.162215    27361\n",
      "-0.965697    26735\n",
      " 0.641266    19563\n",
      " 1.444748     9541\n",
      " 2.248230     2063\n",
      "Name: KBA05_ANTG2, dtype: int64\n",
      "-0.594877    71686\n",
      " 0.408128     8999\n",
      " 1.411132     2883\n",
      " 2.414137     1695\n",
      "Name: KBA05_ANTG3, dtype: int64\n",
      "-0.464086    82497\n",
      " 1.133288     2294\n",
      " 2.730663      472\n",
      "Name: KBA05_ANTG4, dtype: int64\n",
      "-0.116193    29924\n",
      " 1.426883    25732\n",
      " 0.655345    24623\n",
      "-0.887731     4138\n",
      "-1.659268      846\n",
      "Name: KBA05_GBZ, dtype: int64\n",
      " 0.845251    35043\n",
      " 1.303236    12967\n",
      "-0.986687     9288\n",
      "-0.528702     8846\n",
      "-0.070718     8207\n",
      " 0.387267     8065\n",
      "-1.444671     2847\n",
      "Name: BALLRAUM, dtype: int64\n",
      "-1.128807    24742\n",
      " 0.034481    17473\n",
      "-1.710450    14787\n",
      "-0.547163    13231\n",
      " 0.616124    11913\n",
      " 1.197768     3117\n",
      "Name: EWDICHTE, dtype: int64\n",
      " 0.221962    23049\n",
      " 0.715010    17483\n",
      "-0.271085    14321\n",
      " 1.701104    12796\n",
      " 1.208057    10292\n",
      "-0.764132     4491\n",
      "-1.257179     1688\n",
      "-1.750226     1143\n",
      "Name: INNENSTADT, dtype: int64\n",
      " 0.283471    43319\n",
      " 1.366679    23204\n",
      "-0.799737    15129\n",
      "-1.882945     2535\n",
      "-2.966153     1076\n",
      "Name: GEBAEUDETYP_RASTER, dtype: int64\n",
      " 0.269703    35723\n",
      "-0.791625    20990\n",
      " 1.331032    17594\n",
      "-1.852954    10956\n",
      "Name: KKK, dtype: int64\n",
      " 0.779122    25539\n",
      " 1.465404    23908\n",
      " 0.092840    19068\n",
      "-1.279724     9676\n",
      "-0.593442     7024\n",
      " 2.151686       48\n",
      "Name: MOBI_REGIO, dtype: int64\n",
      " 1.453860    27044\n",
      " 0.166969    21568\n",
      " 0.810415    18074\n",
      "-0.476476    12506\n",
      "-1.119921     5351\n",
      "-1.763366      720\n",
      "Name: ONLINE_AFFINITAET, dtype: int64\n",
      " 0.775939    28441\n",
      " 0.223138    15419\n",
      "-1.435265    12172\n",
      "-0.882464     9979\n",
      "-0.329663     7910\n",
      "-1.988066     5930\n",
      " 1.328740     5412\n",
      "Name: REGIOTYP, dtype: int64\n",
      " 2.187130    3838\n",
      " 2.471935    1386\n",
      " 1.902324    1147\n",
      " 2.756740    1099\n",
      " 3.041545     686\n",
      "             ... \n",
      "-1.740333       1\n",
      "-1.760269       1\n",
      "-1.726093       1\n",
      "-1.680524       1\n",
      "-1.683372       1\n",
      "Name: KBA13_ANZAHL_PKW, Length: 1252, dtype: int64\n",
      " 0.786627    39124\n",
      "-0.256529    30103\n",
      " 1.829782    15586\n",
      "-1.299684      450\n",
      "Name: PLZ8_ANTG1, dtype: int64\n",
      " 0.211982    38628\n",
      "-0.890120    35311\n",
      "-1.992222     7743\n",
      " 1.314085     3264\n",
      "-3.094324      317\n",
      "Name: PLZ8_ANTG2, dtype: int64\n",
      "-0.623106    41594\n",
      " 0.402979    22388\n",
      "-1.649191    20875\n",
      " 1.429063      406\n",
      "Name: PLZ8_ANTG3, dtype: int64\n",
      "-0.934798    64679\n",
      " 0.442528    20389\n",
      " 1.819853      195\n",
      "Name: PLZ8_ANTG4, dtype: int64\n",
      "-0.616366    36763\n",
      " 0.419740    19994\n",
      " 1.455847    18115\n",
      "-1.652473     8832\n",
      "-2.688580     1559\n",
      "Name: PLZ8_HHZ, dtype: int64\n",
      "-0.337195    29187\n",
      " 1.485805    27019\n",
      " 0.574305    25827\n",
      "-1.248695     2899\n",
      "-2.160195      331\n",
      "Name: PLZ8_GBZ, dtype: int64\n",
      "-0.171400    31020\n",
      "-1.173149    22946\n",
      " 0.830348    18647\n",
      "-2.174897    10627\n",
      " 1.832097     2023\n",
      "Name: ARBEIT, dtype: int64\n",
      "-0.127041    18882\n",
      "-0.562295    18275\n",
      "-0.997549    15054\n",
      "-1.432803    11704\n",
      "-1.868057     7466\n",
      " 0.308213     5884\n",
      " 0.743466     4485\n",
      " 1.178720     1840\n",
      " 1.613974     1673\n",
      "Name: ORTSGR_KLS9, dtype: int64\n",
      "-1.525981    26423\n",
      "-0.052072    25281\n",
      "-0.789027    16546\n",
      " 1.421837     9859\n",
      " 0.684882     7154\n",
      "Name: RELAT_AB, dtype: int64\n",
      " 1.098070    61281\n",
      " 0.415146    20337\n",
      "-0.267778     2682\n",
      "-0.950703      587\n",
      "-1.633627      245\n",
      "-2.316552      131\n",
      "Name: DECADE, dtype: int64\n",
      " 0.530409    69686\n",
      "-1.885336    15577\n",
      "Name: MOVEMENT, dtype: int64\n",
      "-0.869680    34203\n",
      "-1.551459    18567\n",
      " 0.493878    17582\n",
      "-0.187901     8212\n",
      " 1.175657     6699\n",
      "Name: WEALTH, dtype: int64\n",
      " 0.767095    30879\n",
      " 0.095099    19121\n",
      "-1.248894    12372\n",
      "-0.576897    12054\n",
      " 1.439091    10837\n",
      "Name: LIFE_STAGE, dtype: int64\n"
     ]
    }
   ],
   "source": [
    "\n",
    "\n",
    "label=pd.DataFrame(prediction)\n",
    "label.columns=['cluster']\n",
    "\n",
    "label.index=azdias_less_30.index\n",
    "azdias_less_30_new =pd.concat([features_scaled,label],axis=1)\n",
    "\n",
    "cluster6=features_scaled.loc[azdias_clust['population_clusters']==6,:]\n",
    "cluster6=cluster6.iloc[:,1:64]\n",
    "for i in cluster6.columns:\n",
    "    print(cluster6[i].value_counts()) "
   ]
  },
  {
   "cell_type": "code",
   "execution_count": 313,
   "metadata": {},
   "outputs": [
    {
     "name": "stdout",
     "output_type": "stream",
     "text": [
      " 0.957914    83225\n",
      "-1.043935     2038\n",
      "Name: ANREDE_KZ, dtype: int64\n",
      "-1.494594    32602\n",
      "-0.768681    18837\n",
      " 0.683144    15901\n",
      "-0.042768    15450\n",
      " 1.409057     2473\n",
      "Name: FINANZ_MINIMALIST, dtype: int64\n",
      " 0.864563    33084\n",
      " 1.537924    28931\n",
      " 0.191203    15127\n",
      "-0.482158     6757\n",
      "-1.155518     1364\n",
      "Name: FINANZ_SPARER, dtype: int64\n",
      "-1.040692    26399\n",
      "-0.314404    24964\n",
      "-1.766980    24462\n",
      " 0.411884     8113\n",
      " 1.138172     1325\n",
      "Name: FINANZ_VORSORGER, dtype: int64\n",
      " 1.465965    47236\n",
      " 0.786978    25611\n",
      " 0.107990     8939\n",
      "-0.570998     2842\n",
      "-1.249985      635\n",
      "Name: FINANZ_ANLEGER, dtype: int64\n",
      " 1.673172    34598\n",
      " 0.958645    26056\n",
      " 0.244119    16199\n",
      "-0.470407     5581\n",
      "-1.184933     2829\n",
      "Name: FINANZ_UNAUFFAELLIGER, dtype: int64\n",
      "-0.791205    20548\n",
      " 0.629141    19204\n",
      "-1.501377    17210\n",
      "-0.081032    15861\n",
      " 1.339314    12440\n",
      "Name: FINANZ_HAUSBAUER, dtype: int64\n",
      "-0.530409    69686\n",
      " 1.885336    15577\n",
      "Name: GREEN_AVANTGARDE, dtype: int64\n",
      " 1.010164    45591\n",
      "-0.311816    25445\n",
      "-1.633796    14227\n",
      "Name: HEALTH_TYP, dtype: int64\n",
      "-1.685445    26780\n",
      " 0.376381    20351\n",
      "-0.998170    18474\n",
      "-0.310894    11232\n",
      " 1.063656     8426\n",
      "Name: RETOURTYP_BK_S, dtype: int64\n",
      "-1.102454    42767\n",
      " 0.443199    13979\n",
      "-1.617671    11272\n",
      "-0.072018     9008\n",
      "-0.587236     8199\n",
      " 0.958417       38\n",
      "Name: SEMIO_SOZ, dtype: int64\n",
      " 0.463193    27006\n",
      "-0.059352    26845\n",
      "-1.104443    25506\n",
      "-0.581898     2311\n",
      " 0.985739     2116\n",
      "-1.626988     1479\n",
      "Name: SEMIO_FAM, dtype: int64\n",
      " 1.573113    27866\n",
      " 0.526267    26228\n",
      " 0.002844    25908\n",
      "-0.520579     4353\n",
      "-1.567425      886\n",
      "-1.044002       22\n",
      "Name: SEMIO_REL, dtype: int64\n",
      " 1.626832    31770\n",
      " 0.058780    30177\n",
      "-0.463904    14242\n",
      " 0.581464     6163\n",
      "-0.986589     2357\n",
      " 1.104148      429\n",
      "-1.509273      125\n",
      "Name: SEMIO_MAT, dtype: int64\n",
      "-1.170528    34746\n",
      "-0.142556    21177\n",
      "-1.684514    19505\n",
      " 0.371430     5021\n",
      "-0.656542     4717\n",
      " 1.399401       96\n",
      " 0.885415        1\n",
      "Name: SEMIO_VERT, dtype: int64\n",
      "-1.109907    33718\n",
      "-0.634323    22915\n",
      " 0.792431    11170\n",
      "-0.158738     5283\n",
      " 1.268015     5016\n",
      "-1.585492     3777\n",
      " 0.316846     3384\n",
      "Name: SEMIO_LUST, dtype: int64\n",
      " 0.206850    37249\n",
      "-0.340559    18941\n",
      "-1.435376    14944\n",
      " 1.301667     5329\n",
      " 0.754258     5230\n",
      "-0.887967     3570\n",
      "Name: SEMIO_ERL, dtype: int64\n",
      "-0.578167    28176\n",
      " 0.443408    26484\n",
      " 0.954195    10616\n",
      "-1.088954    10105\n",
      "-0.067380     8246\n",
      "-1.599742     1636\n",
      "Name: SEMIO_KULT, dtype: int64\n",
      " 1.879156    35979\n",
      " 1.274182    32375\n",
      " 0.064234    14992\n",
      " 0.669208     1650\n",
      "-1.750689      136\n",
      "-1.145714      107\n",
      "-0.540740       24\n",
      "Name: SEMIO_RAT, dtype: int64\n",
      "-0.312190    32096\n",
      " 1.392000    28518\n",
      " 0.823937    18862\n",
      " 0.255873     5749\n",
      "-0.880254       38\n",
      "Name: SEMIO_KRIT, dtype: int64\n",
      " 1.339259    37615\n",
      "-0.303541    22063\n",
      " 0.791659    20960\n",
      " 0.244059     4606\n",
      "-1.398740       18\n",
      "-0.851141        1\n",
      "Name: SEMIO_DOM, dtype: int64\n",
      " 0.377873    26898\n",
      "-0.157562    26038\n",
      " 1.448744    16031\n",
      " 0.913308    15768\n",
      "-0.692998      514\n",
      "-1.228433       14\n",
      "Name: SEMIO_KAEM, dtype: int64\n",
      " 1.518695    31502\n",
      " 0.979287    24117\n",
      " 0.439878    17873\n",
      "-0.099530     9478\n",
      "-0.638939     1955\n",
      "-1.717756      186\n",
      "-1.178347      152\n",
      "Name: SEMIO_PFLICHT, dtype: int64\n",
      " 1.855379    37249\n",
      " 1.288982    32926\n",
      "-0.410211     8444\n",
      "-0.976608     3926\n",
      " 0.156187     2496\n",
      "-1.543006      222\n",
      "Name: SEMIO_TRADV, dtype: int64\n",
      "-0.092131    85263\n",
      "Name: SOHO_KZ, dtype: int64\n",
      "-1.083489    44416\n",
      " 0.922944    40847\n",
      "Name: VERS_TYP, dtype: int64\n",
      "-0.630205     38818\n",
      " 0.234451     20384\n",
      " 1.099108     12217\n",
      " 1.963765      7063\n",
      "-1.494862      2880\n",
      " 2.828421      2644\n",
      " 3.693078       812\n",
      " 4.557735       277\n",
      " 5.422391       107\n",
      " 6.287048        41\n",
      " 8.016361         9\n",
      " 8.881018         5\n",
      " 7.151705         4\n",
      " 9.745675         1\n",
      " 10.610331        1\n",
      "Name: ANZ_PERSONEN, dtype: int64\n",
      "-0.060408     85077\n",
      " 14.456030      172\n",
      " 28.972468       14\n",
      "Name: ANZ_TITEL, dtype: int64\n",
      " 0.379568    24283\n",
      "-0.267579    20306\n",
      "-0.914725    13424\n",
      " 1.026714    12954\n",
      "-1.561872     9418\n",
      "-2.209018     4878\n",
      "Name: HH_EINKOMMEN_SCORE, dtype: int64\n",
      " 0.957033    25701\n",
      "-1.855005    18195\n",
      "-0.730190    16245\n",
      "-1.292597    14574\n",
      "-0.167782     9785\n",
      " 0.394626      763\n",
      "Name: W_KEIT_KIND_HH, dtype: int64\n",
      " 0.567325    50162\n",
      " 0.047339     9080\n",
      "-2.032606     7226\n",
      "-2.552592     5307\n",
      "-0.992633     5130\n",
      "-1.512619     4329\n",
      "-0.472647     3179\n",
      "-3.072578      791\n",
      "-3.592564       59\n",
      "Name: WOHNDAUER_2008, dtype: int64\n",
      "-0.466933    27937\n",
      "-0.402929    21643\n",
      "-0.338925    11121\n",
      "-0.274922     6395\n",
      "-0.210918     4539\n",
      "             ...  \n",
      " 2.093209        1\n",
      " 3.501286        1\n",
      " 3.949311        1\n",
      " 3.693297        1\n",
      " 4.141321        1\n",
      "Name: ANZ_HAUSHALTE_AKTIV, Length: 63, dtype: int64\n",
      "-0.125134     84546\n",
      " 2.968367       680\n",
      " 6.061867        29\n",
      " 9.155368         6\n",
      " 12.248868        2\n",
      "Name: ANZ_HH_TITEL, dtype: int64\n",
      " 1.274841    26447\n",
      " 0.629997    17393\n",
      "-0.014846    17120\n",
      "-0.659690    10304\n",
      "-1.304534     8611\n",
      " 1.919684     4659\n",
      " 2.564528      729\n",
      "Name: KONSUMNAEHE, dtype: int64\n",
      "-0.383170    56380\n",
      " 0.217045     7121\n",
      " 0.517152     3076\n",
      " 0.817259     2616\n",
      " 1.117367     2475\n",
      "-0.083062     2027\n",
      " 2.017689     1426\n",
      " 2.317796     1085\n",
      " 3.518225      998\n",
      " 1.717581      893\n",
      " 2.617903      882\n",
      " 1.417474      818\n",
      " 2.918011      666\n",
      " 3.218118      577\n",
      " 5.318869      443\n",
      " 4.118440      441\n",
      " 5.618976      438\n",
      " 4.418547      437\n",
      " 4.718654      431\n",
      " 3.818332      400\n",
      " 5.018762      353\n",
      " 5.919084      317\n",
      "-0.683277      262\n",
      " 6.219191      203\n",
      " 6.519298      171\n",
      "-0.983384      150\n",
      "-1.283492       74\n",
      "-1.583599       48\n",
      " 6.819405       26\n",
      "-1.883706       17\n",
      "-2.183814        8\n",
      "-2.483921        4\n",
      "Name: MIN_GEBAEUDEJAHR, dtype: int64\n",
      "-0.517426    72786\n",
      " 1.932645    12477\n",
      "Name: OST_WEST_KZ, dtype: int64\n",
      " 0.412990    20971\n",
      " 1.123906    19837\n",
      "-0.297927    16302\n",
      " 1.834823    14462\n",
      "-1.008844    13691\n",
      "Name: KBA05_ANTG1, dtype: int64\n",
      "-0.162215    27361\n",
      "-0.965697    26735\n",
      " 0.641266    19563\n",
      " 1.444748     9541\n",
      " 2.248230     2063\n",
      "Name: KBA05_ANTG2, dtype: int64\n",
      "-0.594877    71686\n",
      " 0.408128     8999\n",
      " 1.411132     2883\n",
      " 2.414137     1695\n",
      "Name: KBA05_ANTG3, dtype: int64\n",
      "-0.464086    82497\n",
      " 1.133288     2294\n",
      " 2.730663      472\n",
      "Name: KBA05_ANTG4, dtype: int64\n",
      "-0.116193    29924\n",
      " 1.426883    25732\n",
      " 0.655345    24623\n",
      "-0.887731     4138\n",
      "-1.659268      846\n",
      "Name: KBA05_GBZ, dtype: int64\n",
      " 0.845251    35043\n",
      " 1.303236    12967\n",
      "-0.986687     9288\n",
      "-0.528702     8846\n",
      "-0.070718     8207\n",
      " 0.387267     8065\n",
      "-1.444671     2847\n",
      "Name: BALLRAUM, dtype: int64\n",
      "-1.128807    24742\n",
      " 0.034481    17473\n",
      "-1.710450    14787\n",
      "-0.547163    13231\n",
      " 0.616124    11913\n",
      " 1.197768     3117\n",
      "Name: EWDICHTE, dtype: int64\n",
      " 0.221962    23049\n",
      " 0.715010    17483\n",
      "-0.271085    14321\n",
      " 1.701104    12796\n",
      " 1.208057    10292\n",
      "-0.764132     4491\n",
      "-1.257179     1688\n",
      "-1.750226     1143\n",
      "Name: INNENSTADT, dtype: int64\n",
      " 0.283471    43319\n",
      " 1.366679    23204\n",
      "-0.799737    15129\n",
      "-1.882945     2535\n",
      "-2.966153     1076\n",
      "Name: GEBAEUDETYP_RASTER, dtype: int64\n",
      " 0.269703    35723\n",
      "-0.791625    20990\n",
      " 1.331032    17594\n",
      "-1.852954    10956\n",
      "Name: KKK, dtype: int64\n",
      " 0.779122    25539\n",
      " 1.465404    23908\n",
      " 0.092840    19068\n",
      "-1.279724     9676\n",
      "-0.593442     7024\n",
      " 2.151686       48\n",
      "Name: MOBI_REGIO, dtype: int64\n",
      " 1.453860    27044\n",
      " 0.166969    21568\n",
      " 0.810415    18074\n",
      "-0.476476    12506\n",
      "-1.119921     5351\n",
      "-1.763366      720\n",
      "Name: ONLINE_AFFINITAET, dtype: int64\n",
      " 0.775939    28441\n",
      " 0.223138    15419\n",
      "-1.435265    12172\n",
      "-0.882464     9979\n",
      "-0.329663     7910\n",
      "-1.988066     5930\n",
      " 1.328740     5412\n",
      "Name: REGIOTYP, dtype: int64\n",
      " 2.187130    3838\n",
      " 2.471935    1386\n",
      " 1.902324    1147\n",
      " 2.756740    1099\n",
      " 3.041545     686\n",
      "             ... \n",
      "-1.740333       1\n",
      "-1.760269       1\n",
      "-1.726093       1\n",
      "-1.680524       1\n",
      "-1.683372       1\n",
      "Name: KBA13_ANZAHL_PKW, Length: 1252, dtype: int64\n",
      " 0.786627    39124\n",
      "-0.256529    30103\n",
      " 1.829782    15586\n",
      "-1.299684      450\n",
      "Name: PLZ8_ANTG1, dtype: int64\n",
      " 0.211982    38628\n",
      "-0.890120    35311\n",
      "-1.992222     7743\n",
      " 1.314085     3264\n",
      "-3.094324      317\n",
      "Name: PLZ8_ANTG2, dtype: int64\n",
      "-0.623106    41594\n",
      " 0.402979    22388\n",
      "-1.649191    20875\n",
      " 1.429063      406\n",
      "Name: PLZ8_ANTG3, dtype: int64\n",
      "-0.934798    64679\n",
      " 0.442528    20389\n",
      " 1.819853      195\n",
      "Name: PLZ8_ANTG4, dtype: int64\n",
      "-0.616366    36763\n",
      " 0.419740    19994\n",
      " 1.455847    18115\n",
      "-1.652473     8832\n",
      "-2.688580     1559\n",
      "Name: PLZ8_HHZ, dtype: int64\n",
      "-0.337195    29187\n",
      " 1.485805    27019\n",
      " 0.574305    25827\n",
      "-1.248695     2899\n",
      "-2.160195      331\n",
      "Name: PLZ8_GBZ, dtype: int64\n",
      "-0.171400    31020\n",
      "-1.173149    22946\n",
      " 0.830348    18647\n",
      "-2.174897    10627\n",
      " 1.832097     2023\n",
      "Name: ARBEIT, dtype: int64\n",
      "-0.127041    18882\n",
      "-0.562295    18275\n",
      "-0.997549    15054\n",
      "-1.432803    11704\n",
      "-1.868057     7466\n",
      " 0.308213     5884\n",
      " 0.743466     4485\n",
      " 1.178720     1840\n",
      " 1.613974     1673\n",
      "Name: ORTSGR_KLS9, dtype: int64\n",
      "-1.525981    26423\n",
      "-0.052072    25281\n",
      "-0.789027    16546\n",
      " 1.421837     9859\n",
      " 0.684882     7154\n",
      "Name: RELAT_AB, dtype: int64\n",
      " 1.098070    61281\n",
      " 0.415146    20337\n",
      "-0.267778     2682\n",
      "-0.950703      587\n",
      "-1.633627      245\n",
      "-2.316552      131\n",
      "Name: DECADE, dtype: int64\n",
      " 0.530409    69686\n",
      "-1.885336    15577\n",
      "Name: MOVEMENT, dtype: int64\n",
      "-0.869680    34203\n",
      "-1.551459    18567\n",
      " 0.493878    17582\n",
      "-0.187901     8212\n",
      " 1.175657     6699\n",
      "Name: WEALTH, dtype: int64\n",
      " 0.767095    30879\n",
      " 0.095099    19121\n",
      "-1.248894    12372\n",
      "-0.576897    12054\n",
      " 1.439091    10837\n",
      "Name: LIFE_STAGE, dtype: int64\n"
     ]
    }
   ],
   "source": [
    "cluster3=features_scaled.loc[azdias_clust['population_clusters']==3,:]\n",
    "cluster3=cluster3.iloc[:,1:64]\n",
    "for i in cluster3.columns:\n",
    "    print(cluster6[i].value_counts()) "
   ]
  },
  {
   "cell_type": "markdown",
   "metadata": {},
   "source": [
    "### Discussion 3.3: Compare Customer Data to Demographics Data\n",
    "\n",
    "- Cluster 6 is overrepresnted in the customer data (25.45%) compared to the general population (10.68%)\n",
    "- Cluster 3 is underrepresented in the customers data (0.69%) compared to the general population (10.20%) "
   ]
  },
  {
   "cell_type": "markdown",
   "metadata": {},
   "source": [
    "> Congratulations on making it this far in the project! Before you finish, make sure to check through the entire notebook from top to bottom to make sure that your analysis follows a logical flow and all of your findings are documented in **Discussion** cells. Once you've checked over all of your work, you should export the notebook as an HTML document to submit for evaluation. You can do this from the menu, navigating to **File -> Download as -> HTML (.html)**. You will submit both that document and this notebook for your project submission."
   ]
  },
  {
   "cell_type": "code",
   "execution_count": null,
   "metadata": {},
   "outputs": [],
   "source": []
  }
 ],
 "metadata": {
  "kernelspec": {
   "display_name": "Python 3",
   "language": "python",
   "name": "python3"
  },
  "language_info": {
   "codemirror_mode": {
    "name": "ipython",
    "version": 3
   },
   "file_extension": ".py",
   "mimetype": "text/x-python",
   "name": "python",
   "nbconvert_exporter": "python",
   "pygments_lexer": "ipython3",
   "version": "3.7.7"
  }
 },
 "nbformat": 4,
 "nbformat_minor": 2
}
